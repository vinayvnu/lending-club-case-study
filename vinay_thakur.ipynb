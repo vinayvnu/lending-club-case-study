{
 "cells": [
  {
   "cell_type": "code",
   "execution_count": 944,
   "id": "abf13b66",
   "metadata": {},
   "outputs": [],
   "source": [
    "import pandas as pd\n",
    "import numpy as np"
   ]
  },
  {
   "cell_type": "code",
   "execution_count": 945,
   "id": "ec4aa60c",
   "metadata": {},
   "outputs": [],
   "source": [
    "loan = pd.read_csv('loan.csv', low_memory=False)"
   ]
  },
  {
   "cell_type": "markdown",
   "id": "3c100c3f",
   "metadata": {},
   "source": [
    "# Data Analysis"
   ]
  },
  {
   "cell_type": "code",
   "execution_count": 946,
   "id": "88aae49e",
   "metadata": {},
   "outputs": [
    {
     "data": {
      "text/html": [
       "<div>\n",
       "<style scoped>\n",
       "    .dataframe tbody tr th:only-of-type {\n",
       "        vertical-align: middle;\n",
       "    }\n",
       "\n",
       "    .dataframe tbody tr th {\n",
       "        vertical-align: top;\n",
       "    }\n",
       "\n",
       "    .dataframe thead th {\n",
       "        text-align: right;\n",
       "    }\n",
       "</style>\n",
       "<table border=\"1\" class=\"dataframe\">\n",
       "  <thead>\n",
       "    <tr style=\"text-align: right;\">\n",
       "      <th></th>\n",
       "      <th>id</th>\n",
       "      <th>member_id</th>\n",
       "      <th>loan_amnt</th>\n",
       "      <th>funded_amnt</th>\n",
       "      <th>funded_amnt_inv</th>\n",
       "      <th>term</th>\n",
       "      <th>int_rate</th>\n",
       "      <th>installment</th>\n",
       "      <th>grade</th>\n",
       "      <th>sub_grade</th>\n",
       "      <th>...</th>\n",
       "      <th>num_tl_90g_dpd_24m</th>\n",
       "      <th>num_tl_op_past_12m</th>\n",
       "      <th>pct_tl_nvr_dlq</th>\n",
       "      <th>percent_bc_gt_75</th>\n",
       "      <th>pub_rec_bankruptcies</th>\n",
       "      <th>tax_liens</th>\n",
       "      <th>tot_hi_cred_lim</th>\n",
       "      <th>total_bal_ex_mort</th>\n",
       "      <th>total_bc_limit</th>\n",
       "      <th>total_il_high_credit_limit</th>\n",
       "    </tr>\n",
       "  </thead>\n",
       "  <tbody>\n",
       "    <tr>\n",
       "      <th>0</th>\n",
       "      <td>1077501</td>\n",
       "      <td>1296599</td>\n",
       "      <td>5000</td>\n",
       "      <td>5000</td>\n",
       "      <td>4975.0</td>\n",
       "      <td>36 months</td>\n",
       "      <td>10.65%</td>\n",
       "      <td>162.87</td>\n",
       "      <td>B</td>\n",
       "      <td>B2</td>\n",
       "      <td>...</td>\n",
       "      <td>NaN</td>\n",
       "      <td>NaN</td>\n",
       "      <td>NaN</td>\n",
       "      <td>NaN</td>\n",
       "      <td>0.0</td>\n",
       "      <td>0.0</td>\n",
       "      <td>NaN</td>\n",
       "      <td>NaN</td>\n",
       "      <td>NaN</td>\n",
       "      <td>NaN</td>\n",
       "    </tr>\n",
       "    <tr>\n",
       "      <th>1</th>\n",
       "      <td>1077430</td>\n",
       "      <td>1314167</td>\n",
       "      <td>2500</td>\n",
       "      <td>2500</td>\n",
       "      <td>2500.0</td>\n",
       "      <td>60 months</td>\n",
       "      <td>15.27%</td>\n",
       "      <td>59.83</td>\n",
       "      <td>C</td>\n",
       "      <td>C4</td>\n",
       "      <td>...</td>\n",
       "      <td>NaN</td>\n",
       "      <td>NaN</td>\n",
       "      <td>NaN</td>\n",
       "      <td>NaN</td>\n",
       "      <td>0.0</td>\n",
       "      <td>0.0</td>\n",
       "      <td>NaN</td>\n",
       "      <td>NaN</td>\n",
       "      <td>NaN</td>\n",
       "      <td>NaN</td>\n",
       "    </tr>\n",
       "    <tr>\n",
       "      <th>2</th>\n",
       "      <td>1077175</td>\n",
       "      <td>1313524</td>\n",
       "      <td>2400</td>\n",
       "      <td>2400</td>\n",
       "      <td>2400.0</td>\n",
       "      <td>36 months</td>\n",
       "      <td>15.96%</td>\n",
       "      <td>84.33</td>\n",
       "      <td>C</td>\n",
       "      <td>C5</td>\n",
       "      <td>...</td>\n",
       "      <td>NaN</td>\n",
       "      <td>NaN</td>\n",
       "      <td>NaN</td>\n",
       "      <td>NaN</td>\n",
       "      <td>0.0</td>\n",
       "      <td>0.0</td>\n",
       "      <td>NaN</td>\n",
       "      <td>NaN</td>\n",
       "      <td>NaN</td>\n",
       "      <td>NaN</td>\n",
       "    </tr>\n",
       "    <tr>\n",
       "      <th>3</th>\n",
       "      <td>1076863</td>\n",
       "      <td>1277178</td>\n",
       "      <td>10000</td>\n",
       "      <td>10000</td>\n",
       "      <td>10000.0</td>\n",
       "      <td>36 months</td>\n",
       "      <td>13.49%</td>\n",
       "      <td>339.31</td>\n",
       "      <td>C</td>\n",
       "      <td>C1</td>\n",
       "      <td>...</td>\n",
       "      <td>NaN</td>\n",
       "      <td>NaN</td>\n",
       "      <td>NaN</td>\n",
       "      <td>NaN</td>\n",
       "      <td>0.0</td>\n",
       "      <td>0.0</td>\n",
       "      <td>NaN</td>\n",
       "      <td>NaN</td>\n",
       "      <td>NaN</td>\n",
       "      <td>NaN</td>\n",
       "    </tr>\n",
       "    <tr>\n",
       "      <th>4</th>\n",
       "      <td>1075358</td>\n",
       "      <td>1311748</td>\n",
       "      <td>3000</td>\n",
       "      <td>3000</td>\n",
       "      <td>3000.0</td>\n",
       "      <td>60 months</td>\n",
       "      <td>12.69%</td>\n",
       "      <td>67.79</td>\n",
       "      <td>B</td>\n",
       "      <td>B5</td>\n",
       "      <td>...</td>\n",
       "      <td>NaN</td>\n",
       "      <td>NaN</td>\n",
       "      <td>NaN</td>\n",
       "      <td>NaN</td>\n",
       "      <td>0.0</td>\n",
       "      <td>0.0</td>\n",
       "      <td>NaN</td>\n",
       "      <td>NaN</td>\n",
       "      <td>NaN</td>\n",
       "      <td>NaN</td>\n",
       "    </tr>\n",
       "  </tbody>\n",
       "</table>\n",
       "<p>5 rows × 111 columns</p>\n",
       "</div>"
      ],
      "text/plain": [
       "        id  member_id  loan_amnt  funded_amnt  funded_amnt_inv        term  \\\n",
       "0  1077501    1296599       5000         5000           4975.0   36 months   \n",
       "1  1077430    1314167       2500         2500           2500.0   60 months   \n",
       "2  1077175    1313524       2400         2400           2400.0   36 months   \n",
       "3  1076863    1277178      10000        10000          10000.0   36 months   \n",
       "4  1075358    1311748       3000         3000           3000.0   60 months   \n",
       "\n",
       "  int_rate  installment grade sub_grade  ... num_tl_90g_dpd_24m  \\\n",
       "0   10.65%       162.87     B        B2  ...                NaN   \n",
       "1   15.27%        59.83     C        C4  ...                NaN   \n",
       "2   15.96%        84.33     C        C5  ...                NaN   \n",
       "3   13.49%       339.31     C        C1  ...                NaN   \n",
       "4   12.69%        67.79     B        B5  ...                NaN   \n",
       "\n",
       "  num_tl_op_past_12m pct_tl_nvr_dlq  percent_bc_gt_75 pub_rec_bankruptcies  \\\n",
       "0                NaN            NaN               NaN                  0.0   \n",
       "1                NaN            NaN               NaN                  0.0   \n",
       "2                NaN            NaN               NaN                  0.0   \n",
       "3                NaN            NaN               NaN                  0.0   \n",
       "4                NaN            NaN               NaN                  0.0   \n",
       "\n",
       "  tax_liens tot_hi_cred_lim total_bal_ex_mort total_bc_limit  \\\n",
       "0       0.0             NaN               NaN            NaN   \n",
       "1       0.0             NaN               NaN            NaN   \n",
       "2       0.0             NaN               NaN            NaN   \n",
       "3       0.0             NaN               NaN            NaN   \n",
       "4       0.0             NaN               NaN            NaN   \n",
       "\n",
       "  total_il_high_credit_limit  \n",
       "0                        NaN  \n",
       "1                        NaN  \n",
       "2                        NaN  \n",
       "3                        NaN  \n",
       "4                        NaN  \n",
       "\n",
       "[5 rows x 111 columns]"
      ]
     },
     "execution_count": 946,
     "metadata": {},
     "output_type": "execute_result"
    }
   ],
   "source": [
    "loan.head()"
   ]
  },
  {
   "cell_type": "code",
   "execution_count": 947,
   "id": "92c86934",
   "metadata": {},
   "outputs": [
    {
     "data": {
      "text/plain": [
       "(39717, 111)"
      ]
     },
     "execution_count": 947,
     "metadata": {},
     "output_type": "execute_result"
    }
   ],
   "source": [
    "loan.shape"
   ]
  },
  {
   "cell_type": "code",
   "execution_count": 948,
   "id": "93bbe69b",
   "metadata": {},
   "outputs": [
    {
     "name": "stdout",
     "output_type": "stream",
     "text": [
      "<class 'pandas.core.frame.DataFrame'>\n",
      "RangeIndex: 39717 entries, 0 to 39716\n",
      "Columns: 111 entries, id to total_il_high_credit_limit\n",
      "dtypes: float64(74), int64(13), object(24)\n",
      "memory usage: 33.6+ MB\n"
     ]
    }
   ],
   "source": [
    "loan.info()"
   ]
  },
  {
   "cell_type": "code",
   "execution_count": 949,
   "id": "bee9e3c8",
   "metadata": {},
   "outputs": [
    {
     "data": {
      "text/plain": [
       "2263364"
      ]
     },
     "execution_count": 949,
     "metadata": {},
     "output_type": "execute_result"
    }
   ],
   "source": [
    "loan.isnull().sum().sum()"
   ]
  },
  {
   "cell_type": "code",
   "execution_count": 950,
   "id": "440efda7",
   "metadata": {},
   "outputs": [
    {
     "data": {
      "text/plain": [
       "2263364"
      ]
     },
     "execution_count": 950,
     "metadata": {},
     "output_type": "execute_result"
    }
   ],
   "source": [
    "loan.isna().sum().sum()"
   ]
  },
  {
   "cell_type": "code",
   "execution_count": 951,
   "id": "e633f6cc",
   "metadata": {},
   "outputs": [
    {
     "data": {
      "text/plain": [
       "Index(['id', 'member_id', 'loan_amnt', 'funded_amnt', 'funded_amnt_inv',\n",
       "       'term', 'int_rate', 'installment', 'grade', 'sub_grade',\n",
       "       ...\n",
       "       'num_tl_90g_dpd_24m', 'num_tl_op_past_12m', 'pct_tl_nvr_dlq',\n",
       "       'percent_bc_gt_75', 'pub_rec_bankruptcies', 'tax_liens',\n",
       "       'tot_hi_cred_lim', 'total_bal_ex_mort', 'total_bc_limit',\n",
       "       'total_il_high_credit_limit'],\n",
       "      dtype='object', length=111)"
      ]
     },
     "execution_count": 951,
     "metadata": {},
     "output_type": "execute_result"
    }
   ],
   "source": [
    "loan.columns"
   ]
  },
  {
   "cell_type": "markdown",
   "id": "e10e60b0",
   "metadata": {},
   "source": [
    "# Data Cleaning"
   ]
  },
  {
   "cell_type": "markdown",
   "id": "69f5e315",
   "metadata": {},
   "source": [
    "### 1. Handling null values"
   ]
  },
  {
   "cell_type": "markdown",
   "id": "4a3c83d2",
   "metadata": {},
   "source": [
    "##### checking percentage of null values"
   ]
  },
  {
   "cell_type": "code",
   "execution_count": 952,
   "id": "d0d78059",
   "metadata": {},
   "outputs": [
    {
     "data": {
      "text/plain": [
       "0.5133989643393677"
      ]
     },
     "execution_count": 952,
     "metadata": {},
     "output_type": "execute_result"
    }
   ],
   "source": [
    "(loan.isnull().sum().sum() / (loan.shape[0]*loan.shape[1]))"
   ]
  },
  {
   "cell_type": "markdown",
   "id": "a53a6407",
   "metadata": {},
   "source": [
    "##### 50% of the values are null so first checking and dropping columns with all null values"
   ]
  },
  {
   "cell_type": "code",
   "execution_count": 953,
   "id": "b8effc39",
   "metadata": {},
   "outputs": [],
   "source": [
    "total_rows = loan.id.count()"
   ]
  },
  {
   "cell_type": "code",
   "execution_count": 954,
   "id": "4f7858d0",
   "metadata": {},
   "outputs": [
    {
     "name": "stdout",
     "output_type": "stream",
     "text": [
      "mths_since_last_major_derog : 39717\n",
      "annual_inc_joint : 39717\n",
      "dti_joint : 39717\n",
      "verification_status_joint : 39717\n",
      "tot_coll_amt : 39717\n",
      "tot_cur_bal : 39717\n",
      "open_acc_6m : 39717\n",
      "open_il_6m : 39717\n",
      "open_il_12m : 39717\n",
      "open_il_24m : 39717\n",
      "mths_since_rcnt_il : 39717\n",
      "total_bal_il : 39717\n",
      "il_util : 39717\n",
      "open_rv_12m : 39717\n",
      "open_rv_24m : 39717\n",
      "max_bal_bc : 39717\n",
      "all_util : 39717\n",
      "total_rev_hi_lim : 39717\n",
      "inq_fi : 39717\n",
      "total_cu_tl : 39717\n",
      "inq_last_12m : 39717\n",
      "acc_open_past_24mths : 39717\n",
      "avg_cur_bal : 39717\n",
      "bc_open_to_buy : 39717\n",
      "bc_util : 39717\n",
      "mo_sin_old_il_acct : 39717\n",
      "mo_sin_old_rev_tl_op : 39717\n",
      "mo_sin_rcnt_rev_tl_op : 39717\n",
      "mo_sin_rcnt_tl : 39717\n",
      "mort_acc : 39717\n",
      "mths_since_recent_bc : 39717\n",
      "mths_since_recent_bc_dlq : 39717\n",
      "mths_since_recent_inq : 39717\n",
      "mths_since_recent_revol_delinq : 39717\n",
      "num_accts_ever_120_pd : 39717\n",
      "num_actv_bc_tl : 39717\n",
      "num_actv_rev_tl : 39717\n",
      "num_bc_sats : 39717\n",
      "num_bc_tl : 39717\n",
      "num_il_tl : 39717\n",
      "num_op_rev_tl : 39717\n",
      "num_rev_accts : 39717\n",
      "num_rev_tl_bal_gt_0 : 39717\n",
      "num_sats : 39717\n",
      "num_tl_120dpd_2m : 39717\n",
      "num_tl_30dpd : 39717\n",
      "num_tl_90g_dpd_24m : 39717\n",
      "num_tl_op_past_12m : 39717\n",
      "pct_tl_nvr_dlq : 39717\n",
      "percent_bc_gt_75 : 39717\n",
      "tot_hi_cred_lim : 39717\n",
      "total_bal_ex_mort : 39717\n",
      "total_bc_limit : 39717\n",
      "total_il_high_credit_limit : 39717\n"
     ]
    }
   ],
   "source": [
    "for i in loan.columns:\n",
    "    if loan[i].isna().sum() == total_rows:\n",
    "        print ('{0} : {1}'.format(i, loan[i].isna().sum()))\n",
    "        del loan[i]"
   ]
  },
  {
   "cell_type": "code",
   "execution_count": 955,
   "id": "61eed702",
   "metadata": {},
   "outputs": [
    {
     "data": {
      "text/plain": [
       "(39717, 57)"
      ]
     },
     "execution_count": 955,
     "metadata": {},
     "output_type": "execute_result"
    }
   ],
   "source": [
    "loan.shape"
   ]
  },
  {
   "cell_type": "markdown",
   "id": "2dd116d1",
   "metadata": {},
   "source": [
    "##### checking null values in remaining 57 columns"
   ]
  },
  {
   "cell_type": "code",
   "execution_count": 956,
   "id": "3650dcaa",
   "metadata": {},
   "outputs": [
    {
     "name": "stdout",
     "output_type": "stream",
     "text": [
      "id : 0\n",
      "member_id : 0\n",
      "loan_amnt : 0\n",
      "funded_amnt : 0\n",
      "funded_amnt_inv : 0\n",
      "term : 0\n",
      "int_rate : 0\n",
      "installment : 0\n",
      "grade : 0\n",
      "sub_grade : 0\n",
      "emp_title : 2459\n",
      "emp_length : 1075\n",
      "home_ownership : 0\n",
      "annual_inc : 0\n",
      "verification_status : 0\n",
      "issue_d : 0\n",
      "loan_status : 0\n",
      "pymnt_plan : 0\n",
      "url : 0\n",
      "desc : 12940\n",
      "purpose : 0\n",
      "title : 11\n",
      "zip_code : 0\n",
      "addr_state : 0\n",
      "dti : 0\n",
      "delinq_2yrs : 0\n",
      "earliest_cr_line : 0\n",
      "inq_last_6mths : 0\n",
      "mths_since_last_delinq : 25682\n",
      "mths_since_last_record : 36931\n",
      "open_acc : 0\n",
      "pub_rec : 0\n",
      "revol_bal : 0\n",
      "revol_util : 50\n",
      "total_acc : 0\n",
      "initial_list_status : 0\n",
      "out_prncp : 0\n",
      "out_prncp_inv : 0\n",
      "total_pymnt : 0\n",
      "total_pymnt_inv : 0\n",
      "total_rec_prncp : 0\n",
      "total_rec_int : 0\n",
      "total_rec_late_fee : 0\n",
      "recoveries : 0\n",
      "collection_recovery_fee : 0\n",
      "last_pymnt_d : 71\n",
      "last_pymnt_amnt : 0\n",
      "next_pymnt_d : 38577\n",
      "last_credit_pull_d : 2\n",
      "collections_12_mths_ex_med : 56\n",
      "policy_code : 0\n",
      "application_type : 0\n",
      "acc_now_delinq : 0\n",
      "chargeoff_within_12_mths : 56\n",
      "delinq_amnt : 0\n",
      "pub_rec_bankruptcies : 697\n",
      "tax_liens : 39\n"
     ]
    }
   ],
   "source": [
    "for i in loan.columns:\n",
    "    print ('{0} : {1}'.format(i, loan[i].isna().sum()))"
   ]
  },
  {
   "cell_type": "markdown",
   "id": "c165c04d",
   "metadata": {},
   "source": [
    "##### checking percentage of null remaining"
   ]
  },
  {
   "cell_type": "code",
   "execution_count": 957,
   "id": "c761d4dc",
   "metadata": {},
   "outputs": [
    {
     "data": {
      "text/plain": [
       "0.05240850950297919"
      ]
     },
     "execution_count": 957,
     "metadata": {},
     "output_type": "execute_result"
    }
   ],
   "source": [
    "(loan.isnull().sum().sum() / (loan.shape[0]*loan.shape[1]))"
   ]
  },
  {
   "cell_type": "markdown",
   "id": "23a4b3ac",
   "metadata": {},
   "source": [
    "##### checking for duplicate rows"
   ]
  },
  {
   "cell_type": "code",
   "execution_count": 958,
   "id": "c34f2423",
   "metadata": {},
   "outputs": [
    {
     "data": {
      "text/html": [
       "<div>\n",
       "<style scoped>\n",
       "    .dataframe tbody tr th:only-of-type {\n",
       "        vertical-align: middle;\n",
       "    }\n",
       "\n",
       "    .dataframe tbody tr th {\n",
       "        vertical-align: top;\n",
       "    }\n",
       "\n",
       "    .dataframe thead th {\n",
       "        text-align: right;\n",
       "    }\n",
       "</style>\n",
       "<table border=\"1\" class=\"dataframe\">\n",
       "  <thead>\n",
       "    <tr style=\"text-align: right;\">\n",
       "      <th></th>\n",
       "      <th>id</th>\n",
       "      <th>member_id</th>\n",
       "      <th>loan_amnt</th>\n",
       "      <th>funded_amnt</th>\n",
       "      <th>funded_amnt_inv</th>\n",
       "      <th>term</th>\n",
       "      <th>int_rate</th>\n",
       "      <th>installment</th>\n",
       "      <th>grade</th>\n",
       "      <th>sub_grade</th>\n",
       "      <th>...</th>\n",
       "      <th>next_pymnt_d</th>\n",
       "      <th>last_credit_pull_d</th>\n",
       "      <th>collections_12_mths_ex_med</th>\n",
       "      <th>policy_code</th>\n",
       "      <th>application_type</th>\n",
       "      <th>acc_now_delinq</th>\n",
       "      <th>chargeoff_within_12_mths</th>\n",
       "      <th>delinq_amnt</th>\n",
       "      <th>pub_rec_bankruptcies</th>\n",
       "      <th>tax_liens</th>\n",
       "    </tr>\n",
       "  </thead>\n",
       "  <tbody>\n",
       "  </tbody>\n",
       "</table>\n",
       "<p>0 rows × 57 columns</p>\n",
       "</div>"
      ],
      "text/plain": [
       "Empty DataFrame\n",
       "Columns: [id, member_id, loan_amnt, funded_amnt, funded_amnt_inv, term, int_rate, installment, grade, sub_grade, emp_title, emp_length, home_ownership, annual_inc, verification_status, issue_d, loan_status, pymnt_plan, url, desc, purpose, title, zip_code, addr_state, dti, delinq_2yrs, earliest_cr_line, inq_last_6mths, mths_since_last_delinq, mths_since_last_record, open_acc, pub_rec, revol_bal, revol_util, total_acc, initial_list_status, out_prncp, out_prncp_inv, total_pymnt, total_pymnt_inv, total_rec_prncp, total_rec_int, total_rec_late_fee, recoveries, collection_recovery_fee, last_pymnt_d, last_pymnt_amnt, next_pymnt_d, last_credit_pull_d, collections_12_mths_ex_med, policy_code, application_type, acc_now_delinq, chargeoff_within_12_mths, delinq_amnt, pub_rec_bankruptcies, tax_liens]\n",
       "Index: []\n",
       "\n",
       "[0 rows x 57 columns]"
      ]
     },
     "execution_count": 958,
     "metadata": {},
     "output_type": "execute_result"
    }
   ],
   "source": [
    "loan[loan.duplicated()]"
   ]
  },
  {
   "cell_type": "markdown",
   "id": "4a5e84e6",
   "metadata": {},
   "source": [
    "### 2. Removing non-essential data"
   ]
  },
  {
   "cell_type": "code",
   "execution_count": 959,
   "id": "c564e485",
   "metadata": {},
   "outputs": [
    {
     "data": {
      "text/plain": [
       "Index(['id', 'member_id', 'loan_amnt', 'funded_amnt', 'funded_amnt_inv',\n",
       "       'term', 'int_rate', 'installment', 'grade', 'sub_grade', 'emp_title',\n",
       "       'emp_length', 'home_ownership', 'annual_inc', 'verification_status',\n",
       "       'issue_d', 'loan_status', 'pymnt_plan', 'url', 'desc', 'purpose',\n",
       "       'title', 'zip_code', 'addr_state', 'dti', 'delinq_2yrs',\n",
       "       'earliest_cr_line', 'inq_last_6mths', 'mths_since_last_delinq',\n",
       "       'mths_since_last_record', 'open_acc', 'pub_rec', 'revol_bal',\n",
       "       'revol_util', 'total_acc', 'initial_list_status', 'out_prncp',\n",
       "       'out_prncp_inv', 'total_pymnt', 'total_pymnt_inv', 'total_rec_prncp',\n",
       "       'total_rec_int', 'total_rec_late_fee', 'recoveries',\n",
       "       'collection_recovery_fee', 'last_pymnt_d', 'last_pymnt_amnt',\n",
       "       'next_pymnt_d', 'last_credit_pull_d', 'collections_12_mths_ex_med',\n",
       "       'policy_code', 'application_type', 'acc_now_delinq',\n",
       "       'chargeoff_within_12_mths', 'delinq_amnt', 'pub_rec_bankruptcies',\n",
       "       'tax_liens'],\n",
       "      dtype='object')"
      ]
     },
     "execution_count": 959,
     "metadata": {},
     "output_type": "execute_result"
    }
   ],
   "source": [
    "loan.columns"
   ]
  },
  {
   "cell_type": "markdown",
   "id": "93f0c444",
   "metadata": {},
   "source": [
    "##### checking the number of unique values in each columns, if its one then its not required"
   ]
  },
  {
   "cell_type": "code",
   "execution_count": 960,
   "id": "1a406b51",
   "metadata": {},
   "outputs": [
    {
     "data": {
      "text/plain": [
       "array(['n'], dtype=object)"
      ]
     },
     "execution_count": 960,
     "metadata": {},
     "output_type": "execute_result"
    }
   ],
   "source": [
    "loan.pymnt_plan.unique()"
   ]
  },
  {
   "cell_type": "code",
   "execution_count": 961,
   "id": "004e8cb3",
   "metadata": {},
   "outputs": [],
   "source": [
    "del loan['pymnt_plan']"
   ]
  },
  {
   "cell_type": "code",
   "execution_count": 962,
   "id": "aa79e9ae",
   "metadata": {},
   "outputs": [],
   "source": [
    "del loan['url']"
   ]
  },
  {
   "cell_type": "code",
   "execution_count": 963,
   "id": "5089edef",
   "metadata": {},
   "outputs": [
    {
     "data": {
      "text/plain": [
       "12940"
      ]
     },
     "execution_count": 963,
     "metadata": {},
     "output_type": "execute_result"
    }
   ],
   "source": [
    "loan.desc.isnull().sum()"
   ]
  },
  {
   "cell_type": "code",
   "execution_count": 964,
   "id": "b612863a",
   "metadata": {},
   "outputs": [
    {
     "data": {
      "text/plain": [
       "39717"
      ]
     },
     "execution_count": 964,
     "metadata": {},
     "output_type": "execute_result"
    }
   ],
   "source": [
    "loan.id.count()"
   ]
  },
  {
   "cell_type": "markdown",
   "id": "79974bca",
   "metadata": {},
   "source": [
    "##### checking percentage of null value"
   ]
  },
  {
   "cell_type": "code",
   "execution_count": 965,
   "id": "3bcf7c71",
   "metadata": {},
   "outputs": [
    {
     "data": {
      "text/plain": [
       "0.3258050708764509"
      ]
     },
     "execution_count": 965,
     "metadata": {},
     "output_type": "execute_result"
    }
   ],
   "source": [
    "loan.desc.isnull().sum() / loan.id.count()"
   ]
  },
  {
   "cell_type": "code",
   "execution_count": 966,
   "id": "ac1baff5",
   "metadata": {},
   "outputs": [],
   "source": [
    "del loan['desc']"
   ]
  },
  {
   "cell_type": "code",
   "execution_count": 967,
   "id": "a82e3d25",
   "metadata": {},
   "outputs": [
    {
     "data": {
      "text/plain": [
       "array(['credit_card', 'car', 'small_business', 'other', 'wedding',\n",
       "       'debt_consolidation', 'home_improvement', 'major_purchase',\n",
       "       'medical', 'moving', 'vacation', 'house', 'renewable_energy',\n",
       "       'educational'], dtype=object)"
      ]
     },
     "execution_count": 967,
     "metadata": {},
     "output_type": "execute_result"
    }
   ],
   "source": [
    "loan.purpose.unique()"
   ]
  },
  {
   "cell_type": "code",
   "execution_count": 968,
   "id": "2277ea93",
   "metadata": {},
   "outputs": [
    {
     "data": {
      "text/plain": [
       "array(['Computer', 'bike', 'real estate business', ...,\n",
       "       'Retiring credit card debt', 'MBA Loan Consolidation', 'JAL Loan'],\n",
       "      dtype=object)"
      ]
     },
     "execution_count": 968,
     "metadata": {},
     "output_type": "execute_result"
    }
   ],
   "source": [
    "loan.title.unique()"
   ]
  },
  {
   "cell_type": "markdown",
   "id": "ed6ef440",
   "metadata": {},
   "source": [
    "#####  zip_code is not required as its has many unique values and it won't be helpful in univariate or bi-variate analysis"
   ]
  },
  {
   "cell_type": "code",
   "execution_count": 969,
   "id": "1e2c6bfa",
   "metadata": {},
   "outputs": [],
   "source": [
    "del loan['zip_code']"
   ]
  },
  {
   "cell_type": "code",
   "execution_count": 970,
   "id": "abe95584",
   "metadata": {},
   "outputs": [
    {
     "data": {
      "text/plain": [
       "array(['AZ', 'GA', 'IL', 'CA', 'OR', 'NC', 'TX', 'VA', 'MO', 'CT', 'UT',\n",
       "       'FL', 'NY', 'PA', 'MN', 'NJ', 'KY', 'OH', 'SC', 'RI', 'LA', 'MA',\n",
       "       'WA', 'WI', 'AL', 'CO', 'KS', 'NV', 'AK', 'MD', 'WV', 'VT', 'MI',\n",
       "       'DC', 'SD', 'NH', 'AR', 'NM', 'MT', 'HI', 'WY', 'OK', 'DE', 'MS',\n",
       "       'TN', 'IA', 'NE', 'ID', 'IN', 'ME'], dtype=object)"
      ]
     },
     "execution_count": 970,
     "metadata": {},
     "output_type": "execute_result"
    }
   ],
   "source": [
    "loan.addr_state.unique()"
   ]
  },
  {
   "cell_type": "code",
   "execution_count": 971,
   "id": "12724b8b",
   "metadata": {},
   "outputs": [
    {
     "data": {
      "text/plain": [
       "array([ 0,  2,  3,  1,  4,  6,  5,  8,  7,  9, 11])"
      ]
     },
     "execution_count": 971,
     "metadata": {},
     "output_type": "execute_result"
    }
   ],
   "source": [
    "loan.delinq_2yrs.unique()"
   ]
  },
  {
   "cell_type": "code",
   "execution_count": 972,
   "id": "6ecacf01",
   "metadata": {},
   "outputs": [
    {
     "data": {
      "text/plain": [
       "array([ nan,  35.,  38.,  61.,   8.,  20.,  18.,  68.,  45.,  48.,  41.,\n",
       "        40.,  74.,  25.,  53.,  39.,  10.,  26.,  56.,  77.,  28.,  52.,\n",
       "        24.,  16.,  60.,  54.,  23.,   9.,  11.,  13.,  65.,  19.,  80.,\n",
       "        22.,  59.,  79.,  44.,  64.,  57.,  14.,  63.,  49.,  15.,  73.,\n",
       "        70.,  29.,  51.,   5.,  75.,  55.,   2.,  30.,  47.,  33.,  69.,\n",
       "         4.,  43.,  21.,  27.,  46.,  81.,  78.,  82.,  31.,  76.,  62.,\n",
       "        72.,  42.,  50.,   3.,  12.,  67.,  36.,  34.,  58.,  17.,  71.,\n",
       "        66.,  32.,   6.,  37.,   7.,   1.,  83.,  86., 115.,  96., 103.,\n",
       "       120., 106.,  89., 107.,  85.,  97.,  95.,   0.])"
      ]
     },
     "execution_count": 972,
     "metadata": {},
     "output_type": "execute_result"
    }
   ],
   "source": [
    "loan.mths_since_last_delinq.unique()"
   ]
  },
  {
   "cell_type": "code",
   "execution_count": 973,
   "id": "e0bede83",
   "metadata": {},
   "outputs": [
    {
     "data": {
      "text/plain": [
       "0.6466248709620566"
      ]
     },
     "execution_count": 973,
     "metadata": {},
     "output_type": "execute_result"
    }
   ],
   "source": [
    "loan.mths_since_last_delinq.isnull().sum() / loan.id.count()"
   ]
  },
  {
   "cell_type": "markdown",
   "id": "9fe02454",
   "metadata": {},
   "source": [
    "##### mths_since_last_delinq has more than 60 percent of its data as null its an non essential column"
   ]
  },
  {
   "cell_type": "code",
   "execution_count": 974,
   "id": "8c130c8e",
   "metadata": {},
   "outputs": [],
   "source": [
    "del loan['mths_since_last_delinq']"
   ]
  },
  {
   "cell_type": "code",
   "execution_count": 975,
   "id": "44d170a5",
   "metadata": {},
   "outputs": [
    {
     "data": {
      "text/plain": [
       "array([ nan, 113., 105.,  97.,  33.,  93.,  52.,  85.,  90.,  91., 114.,\n",
       "        92., 117.,  87.,  45.,  83., 118.,  38., 101., 100., 112., 110.,\n",
       "        88.,  79.,  77., 107., 102.,  98.,  95., 103.,  96., 116., 111.,\n",
       "        89., 108.,  29., 106., 115.,  53.,  86.,  57.,  63.,  94., 109.,\n",
       "        99., 104.,  76.,  61.,  28.,  23.,  75.,  47.,  82.,  21.,  62.,\n",
       "        44.,  80.,  67., 119.,  42.,  34.,  66.,  58.,  22.,  56.,  72.,\n",
       "        64.,  50.,  69.,  49.,  74.,  35.,  12.,  26.,  78.,  54.,  37.,\n",
       "        73.,  11.,  31.,  59.,  32.,  81.,  68.,  55.,  39.,  51.,  70.,\n",
       "        30.,  41.,  71.,  40.,  43.,  27.,  65.,  46.,  19.,  17.,  25.,\n",
       "        13.,  48.,  36.,   7.,  60.,  14.,   6.,  18.,   0.,  20., 120.,\n",
       "       129.,   5.])"
      ]
     },
     "execution_count": 975,
     "metadata": {},
     "output_type": "execute_result"
    }
   ],
   "source": [
    "loan.mths_since_last_record.unique()"
   ]
  },
  {
   "cell_type": "code",
   "execution_count": 976,
   "id": "1980c261",
   "metadata": {},
   "outputs": [
    {
     "data": {
      "text/plain": [
       "0.9298537150338646"
      ]
     },
     "execution_count": 976,
     "metadata": {},
     "output_type": "execute_result"
    }
   ],
   "source": [
    "loan.mths_since_last_record.isnull().sum() / loan.id.count()"
   ]
  },
  {
   "cell_type": "markdown",
   "id": "a23f2072",
   "metadata": {},
   "source": [
    "##### mths_since_last_record has 92 percent of its data as null, this column is not required"
   ]
  },
  {
   "cell_type": "code",
   "execution_count": 977,
   "id": "07284ade",
   "metadata": {},
   "outputs": [],
   "source": [
    "del loan ['mths_since_last_record']"
   ]
  },
  {
   "cell_type": "code",
   "execution_count": 978,
   "id": "1ab3566d",
   "metadata": {},
   "outputs": [
    {
     "data": {
      "text/plain": [
       "Index(['id', 'member_id', 'loan_amnt', 'funded_amnt', 'funded_amnt_inv',\n",
       "       'term', 'int_rate', 'installment', 'grade', 'sub_grade', 'emp_title',\n",
       "       'emp_length', 'home_ownership', 'annual_inc', 'verification_status',\n",
       "       'issue_d', 'loan_status', 'purpose', 'title', 'addr_state', 'dti',\n",
       "       'delinq_2yrs', 'earliest_cr_line', 'inq_last_6mths', 'open_acc',\n",
       "       'pub_rec', 'revol_bal', 'revol_util', 'total_acc',\n",
       "       'initial_list_status', 'out_prncp', 'out_prncp_inv', 'total_pymnt',\n",
       "       'total_pymnt_inv', 'total_rec_prncp', 'total_rec_int',\n",
       "       'total_rec_late_fee', 'recoveries', 'collection_recovery_fee',\n",
       "       'last_pymnt_d', 'last_pymnt_amnt', 'next_pymnt_d', 'last_credit_pull_d',\n",
       "       'collections_12_mths_ex_med', 'policy_code', 'application_type',\n",
       "       'acc_now_delinq', 'chargeoff_within_12_mths', 'delinq_amnt',\n",
       "       'pub_rec_bankruptcies', 'tax_liens'],\n",
       "      dtype='object')"
      ]
     },
     "execution_count": 978,
     "metadata": {},
     "output_type": "execute_result"
    }
   ],
   "source": [
    "loan.columns"
   ]
  },
  {
   "cell_type": "code",
   "execution_count": 979,
   "id": "3aee39d8",
   "metadata": {},
   "outputs": [
    {
     "data": {
      "text/plain": [
       "array(['f'], dtype=object)"
      ]
     },
     "execution_count": 979,
     "metadata": {},
     "output_type": "execute_result"
    }
   ],
   "source": [
    "loan.initial_list_status.unique()"
   ]
  },
  {
   "cell_type": "code",
   "execution_count": 980,
   "id": "e0384f0f",
   "metadata": {},
   "outputs": [],
   "source": [
    "del loan['initial_list_status']"
   ]
  },
  {
   "cell_type": "code",
   "execution_count": 981,
   "id": "caee0ffb",
   "metadata": {},
   "outputs": [
    {
     "data": {
      "text/plain": [
       "array([   0.  ,  524.06, 1849.1 , ...,   19.12,   13.28,   79.24])"
      ]
     },
     "execution_count": 981,
     "metadata": {},
     "output_type": "execute_result"
    }
   ],
   "source": [
    "loan.out_prncp.unique()"
   ]
  },
  {
   "cell_type": "code",
   "execution_count": 982,
   "id": "e01f8ecd",
   "metadata": {},
   "outputs": [
    {
     "data": {
      "text/plain": [
       "(39717, 50)"
      ]
     },
     "execution_count": 982,
     "metadata": {},
     "output_type": "execute_result"
    }
   ],
   "source": [
    "loan.shape"
   ]
  },
  {
   "cell_type": "code",
   "execution_count": 983,
   "id": "f27a4228",
   "metadata": {},
   "outputs": [
    {
     "data": {
      "text/plain": [
       "0.971296925749679"
      ]
     },
     "execution_count": 983,
     "metadata": {},
     "output_type": "execute_result"
    }
   ],
   "source": [
    "loan.next_pymnt_d.isnull().sum() / loan.id.count()"
   ]
  },
  {
   "cell_type": "markdown",
   "id": "1a399037",
   "metadata": {},
   "source": [
    "##### next_pymnt_d has 97 percent data as null, dropping the column"
   ]
  },
  {
   "cell_type": "code",
   "execution_count": 984,
   "id": "283ed048",
   "metadata": {},
   "outputs": [],
   "source": [
    "del loan['next_pymnt_d']"
   ]
  },
  {
   "cell_type": "code",
   "execution_count": 985,
   "id": "3ff386cf",
   "metadata": {},
   "outputs": [
    {
     "data": {
      "text/plain": [
       "array([ 0., nan])"
      ]
     },
     "execution_count": 985,
     "metadata": {},
     "output_type": "execute_result"
    }
   ],
   "source": [
    "loan.collections_12_mths_ex_med.unique()"
   ]
  },
  {
   "cell_type": "code",
   "execution_count": 986,
   "id": "c7d7eee4",
   "metadata": {},
   "outputs": [
    {
     "data": {
      "text/plain": [
       "0.0014099755772087519"
      ]
     },
     "execution_count": 986,
     "metadata": {},
     "output_type": "execute_result"
    }
   ],
   "source": [
    "loan.collections_12_mths_ex_med.isnull().sum() / loan.id.count()"
   ]
  },
  {
   "cell_type": "markdown",
   "id": "2c24b1f9",
   "metadata": {},
   "source": [
    "##### collections_12_mths_ex_med has 99 percent 0 values"
   ]
  },
  {
   "cell_type": "code",
   "execution_count": 987,
   "id": "a371355f",
   "metadata": {},
   "outputs": [
    {
     "data": {
      "text/plain": [
       "0.9985900244227912"
      ]
     },
     "execution_count": 987,
     "metadata": {},
     "output_type": "execute_result"
    }
   ],
   "source": [
    "loan[loan.collections_12_mths_ex_med == 0]['id'].count() / loan.id.count()"
   ]
  },
  {
   "cell_type": "code",
   "execution_count": 988,
   "id": "f4892d10",
   "metadata": {},
   "outputs": [],
   "source": [
    "del loan['collections_12_mths_ex_med']"
   ]
  },
  {
   "cell_type": "code",
   "execution_count": 989,
   "id": "bdec356e",
   "metadata": {},
   "outputs": [
    {
     "data": {
      "text/plain": [
       "array([1])"
      ]
     },
     "execution_count": 989,
     "metadata": {},
     "output_type": "execute_result"
    }
   ],
   "source": [
    "loan.policy_code.unique()"
   ]
  },
  {
   "cell_type": "code",
   "execution_count": 990,
   "id": "1b356094",
   "metadata": {},
   "outputs": [],
   "source": [
    "del loan['policy_code']"
   ]
  },
  {
   "cell_type": "code",
   "execution_count": 991,
   "id": "d7349ad0",
   "metadata": {},
   "outputs": [
    {
     "data": {
      "text/plain": [
       "Index(['id', 'member_id', 'loan_amnt', 'funded_amnt', 'funded_amnt_inv',\n",
       "       'term', 'int_rate', 'installment', 'grade', 'sub_grade', 'emp_title',\n",
       "       'emp_length', 'home_ownership', 'annual_inc', 'verification_status',\n",
       "       'issue_d', 'loan_status', 'purpose', 'title', 'addr_state', 'dti',\n",
       "       'delinq_2yrs', 'earliest_cr_line', 'inq_last_6mths', 'open_acc',\n",
       "       'pub_rec', 'revol_bal', 'revol_util', 'total_acc', 'out_prncp',\n",
       "       'out_prncp_inv', 'total_pymnt', 'total_pymnt_inv', 'total_rec_prncp',\n",
       "       'total_rec_int', 'total_rec_late_fee', 'recoveries',\n",
       "       'collection_recovery_fee', 'last_pymnt_d', 'last_pymnt_amnt',\n",
       "       'last_credit_pull_d', 'application_type', 'acc_now_delinq',\n",
       "       'chargeoff_within_12_mths', 'delinq_amnt', 'pub_rec_bankruptcies',\n",
       "       'tax_liens'],\n",
       "      dtype='object')"
      ]
     },
     "execution_count": 991,
     "metadata": {},
     "output_type": "execute_result"
    }
   ],
   "source": [
    "loan.columns"
   ]
  },
  {
   "cell_type": "code",
   "execution_count": 992,
   "id": "41976fdc",
   "metadata": {},
   "outputs": [
    {
     "data": {
      "text/plain": [
       "array(['INDIVIDUAL'], dtype=object)"
      ]
     },
     "execution_count": 992,
     "metadata": {},
     "output_type": "execute_result"
    }
   ],
   "source": [
    "loan.application_type.unique()"
   ]
  },
  {
   "cell_type": "markdown",
   "id": "e3045bab",
   "metadata": {},
   "source": [
    "##### application_type has one unique value only"
   ]
  },
  {
   "cell_type": "code",
   "execution_count": 993,
   "id": "8c642a3a",
   "metadata": {},
   "outputs": [],
   "source": [
    "del loan['application_type']"
   ]
  },
  {
   "cell_type": "code",
   "execution_count": 994,
   "id": "59ac27db",
   "metadata": {},
   "outputs": [
    {
     "data": {
      "text/plain": [
       "array([0])"
      ]
     },
     "execution_count": 994,
     "metadata": {},
     "output_type": "execute_result"
    }
   ],
   "source": [
    "loan.acc_now_delinq.unique()"
   ]
  },
  {
   "cell_type": "markdown",
   "id": "61a9907b",
   "metadata": {},
   "source": [
    "##### acc_now_delinq has 0 as value "
   ]
  },
  {
   "cell_type": "code",
   "execution_count": 995,
   "id": "40a2d19f",
   "metadata": {},
   "outputs": [],
   "source": [
    "del loan['acc_now_delinq']"
   ]
  },
  {
   "cell_type": "code",
   "execution_count": 996,
   "id": "7a3ccf9e",
   "metadata": {},
   "outputs": [
    {
     "data": {
      "text/plain": [
       "array([ 0., nan])"
      ]
     },
     "execution_count": 996,
     "metadata": {},
     "output_type": "execute_result"
    }
   ],
   "source": [
    "loan.chargeoff_within_12_mths.unique()"
   ]
  },
  {
   "cell_type": "markdown",
   "id": "815f4b8a",
   "metadata": {},
   "source": [
    "##### chargeoff_within_12_mths has 0 and null"
   ]
  },
  {
   "cell_type": "code",
   "execution_count": 997,
   "id": "08469118",
   "metadata": {},
   "outputs": [],
   "source": [
    "del loan['chargeoff_within_12_mths']"
   ]
  },
  {
   "cell_type": "code",
   "execution_count": 998,
   "id": "cc8704f1",
   "metadata": {},
   "outputs": [
    {
     "data": {
      "text/plain": [
       "array([0])"
      ]
     },
     "execution_count": 998,
     "metadata": {},
     "output_type": "execute_result"
    }
   ],
   "source": [
    "loan.delinq_amnt.unique()"
   ]
  },
  {
   "cell_type": "markdown",
   "id": "7f39051e",
   "metadata": {},
   "source": [
    "##### delinq_amnt has 0 only"
   ]
  },
  {
   "cell_type": "code",
   "execution_count": 999,
   "id": "7bcf1cd5",
   "metadata": {},
   "outputs": [],
   "source": [
    "del loan ['delinq_amnt']"
   ]
  },
  {
   "cell_type": "code",
   "execution_count": 1000,
   "id": "ffd4ffbc",
   "metadata": {},
   "outputs": [
    {
     "data": {
      "text/plain": [
       "array([ 0., nan])"
      ]
     },
     "execution_count": 1000,
     "metadata": {},
     "output_type": "execute_result"
    }
   ],
   "source": [
    "loan.tax_liens.unique()"
   ]
  },
  {
   "cell_type": "code",
   "execution_count": 1001,
   "id": "ae7c4bf5",
   "metadata": {},
   "outputs": [
    {
     "data": {
      "text/html": [
       "<div>\n",
       "<style scoped>\n",
       "    .dataframe tbody tr th:only-of-type {\n",
       "        vertical-align: middle;\n",
       "    }\n",
       "\n",
       "    .dataframe tbody tr th {\n",
       "        vertical-align: top;\n",
       "    }\n",
       "\n",
       "    .dataframe thead th {\n",
       "        text-align: right;\n",
       "    }\n",
       "</style>\n",
       "<table border=\"1\" class=\"dataframe\">\n",
       "  <thead>\n",
       "    <tr style=\"text-align: right;\">\n",
       "      <th></th>\n",
       "      <th>id</th>\n",
       "      <th>member_id</th>\n",
       "      <th>loan_amnt</th>\n",
       "      <th>funded_amnt</th>\n",
       "      <th>funded_amnt_inv</th>\n",
       "      <th>term</th>\n",
       "      <th>int_rate</th>\n",
       "      <th>installment</th>\n",
       "      <th>grade</th>\n",
       "      <th>sub_grade</th>\n",
       "      <th>...</th>\n",
       "      <th>total_rec_prncp</th>\n",
       "      <th>total_rec_int</th>\n",
       "      <th>total_rec_late_fee</th>\n",
       "      <th>recoveries</th>\n",
       "      <th>collection_recovery_fee</th>\n",
       "      <th>last_pymnt_d</th>\n",
       "      <th>last_pymnt_amnt</th>\n",
       "      <th>last_credit_pull_d</th>\n",
       "      <th>pub_rec_bankruptcies</th>\n",
       "      <th>tax_liens</th>\n",
       "    </tr>\n",
       "  </thead>\n",
       "  <tbody>\n",
       "    <tr>\n",
       "      <th>0</th>\n",
       "      <td>1077501</td>\n",
       "      <td>1296599</td>\n",
       "      <td>5000</td>\n",
       "      <td>5000</td>\n",
       "      <td>4975.0</td>\n",
       "      <td>36 months</td>\n",
       "      <td>10.65%</td>\n",
       "      <td>162.87</td>\n",
       "      <td>B</td>\n",
       "      <td>B2</td>\n",
       "      <td>...</td>\n",
       "      <td>5000.00</td>\n",
       "      <td>863.16</td>\n",
       "      <td>0.00</td>\n",
       "      <td>0.00</td>\n",
       "      <td>0.00</td>\n",
       "      <td>Jan-15</td>\n",
       "      <td>171.62</td>\n",
       "      <td>May-16</td>\n",
       "      <td>0.0</td>\n",
       "      <td>0.0</td>\n",
       "    </tr>\n",
       "    <tr>\n",
       "      <th>1</th>\n",
       "      <td>1077430</td>\n",
       "      <td>1314167</td>\n",
       "      <td>2500</td>\n",
       "      <td>2500</td>\n",
       "      <td>2500.0</td>\n",
       "      <td>60 months</td>\n",
       "      <td>15.27%</td>\n",
       "      <td>59.83</td>\n",
       "      <td>C</td>\n",
       "      <td>C4</td>\n",
       "      <td>...</td>\n",
       "      <td>456.46</td>\n",
       "      <td>435.17</td>\n",
       "      <td>0.00</td>\n",
       "      <td>117.08</td>\n",
       "      <td>1.11</td>\n",
       "      <td>Apr-13</td>\n",
       "      <td>119.66</td>\n",
       "      <td>Sep-13</td>\n",
       "      <td>0.0</td>\n",
       "      <td>0.0</td>\n",
       "    </tr>\n",
       "    <tr>\n",
       "      <th>2</th>\n",
       "      <td>1077175</td>\n",
       "      <td>1313524</td>\n",
       "      <td>2400</td>\n",
       "      <td>2400</td>\n",
       "      <td>2400.0</td>\n",
       "      <td>36 months</td>\n",
       "      <td>15.96%</td>\n",
       "      <td>84.33</td>\n",
       "      <td>C</td>\n",
       "      <td>C5</td>\n",
       "      <td>...</td>\n",
       "      <td>2400.00</td>\n",
       "      <td>605.67</td>\n",
       "      <td>0.00</td>\n",
       "      <td>0.00</td>\n",
       "      <td>0.00</td>\n",
       "      <td>Jun-14</td>\n",
       "      <td>649.91</td>\n",
       "      <td>May-16</td>\n",
       "      <td>0.0</td>\n",
       "      <td>0.0</td>\n",
       "    </tr>\n",
       "    <tr>\n",
       "      <th>3</th>\n",
       "      <td>1076863</td>\n",
       "      <td>1277178</td>\n",
       "      <td>10000</td>\n",
       "      <td>10000</td>\n",
       "      <td>10000.0</td>\n",
       "      <td>36 months</td>\n",
       "      <td>13.49%</td>\n",
       "      <td>339.31</td>\n",
       "      <td>C</td>\n",
       "      <td>C1</td>\n",
       "      <td>...</td>\n",
       "      <td>10000.00</td>\n",
       "      <td>2214.92</td>\n",
       "      <td>16.97</td>\n",
       "      <td>0.00</td>\n",
       "      <td>0.00</td>\n",
       "      <td>Jan-15</td>\n",
       "      <td>357.48</td>\n",
       "      <td>Apr-16</td>\n",
       "      <td>0.0</td>\n",
       "      <td>0.0</td>\n",
       "    </tr>\n",
       "    <tr>\n",
       "      <th>4</th>\n",
       "      <td>1075358</td>\n",
       "      <td>1311748</td>\n",
       "      <td>3000</td>\n",
       "      <td>3000</td>\n",
       "      <td>3000.0</td>\n",
       "      <td>60 months</td>\n",
       "      <td>12.69%</td>\n",
       "      <td>67.79</td>\n",
       "      <td>B</td>\n",
       "      <td>B5</td>\n",
       "      <td>...</td>\n",
       "      <td>2475.94</td>\n",
       "      <td>1037.39</td>\n",
       "      <td>0.00</td>\n",
       "      <td>0.00</td>\n",
       "      <td>0.00</td>\n",
       "      <td>May-16</td>\n",
       "      <td>67.79</td>\n",
       "      <td>May-16</td>\n",
       "      <td>0.0</td>\n",
       "      <td>0.0</td>\n",
       "    </tr>\n",
       "  </tbody>\n",
       "</table>\n",
       "<p>5 rows × 43 columns</p>\n",
       "</div>"
      ],
      "text/plain": [
       "        id  member_id  loan_amnt  funded_amnt  funded_amnt_inv        term  \\\n",
       "0  1077501    1296599       5000         5000           4975.0   36 months   \n",
       "1  1077430    1314167       2500         2500           2500.0   60 months   \n",
       "2  1077175    1313524       2400         2400           2400.0   36 months   \n",
       "3  1076863    1277178      10000        10000          10000.0   36 months   \n",
       "4  1075358    1311748       3000         3000           3000.0   60 months   \n",
       "\n",
       "  int_rate  installment grade sub_grade  ... total_rec_prncp total_rec_int  \\\n",
       "0   10.65%       162.87     B        B2  ...         5000.00        863.16   \n",
       "1   15.27%        59.83     C        C4  ...          456.46        435.17   \n",
       "2   15.96%        84.33     C        C5  ...         2400.00        605.67   \n",
       "3   13.49%       339.31     C        C1  ...        10000.00       2214.92   \n",
       "4   12.69%        67.79     B        B5  ...         2475.94       1037.39   \n",
       "\n",
       "  total_rec_late_fee  recoveries collection_recovery_fee last_pymnt_d  \\\n",
       "0               0.00        0.00                    0.00       Jan-15   \n",
       "1               0.00      117.08                    1.11       Apr-13   \n",
       "2               0.00        0.00                    0.00       Jun-14   \n",
       "3              16.97        0.00                    0.00       Jan-15   \n",
       "4               0.00        0.00                    0.00       May-16   \n",
       "\n",
       "  last_pymnt_amnt last_credit_pull_d pub_rec_bankruptcies tax_liens  \n",
       "0          171.62             May-16                  0.0       0.0  \n",
       "1          119.66             Sep-13                  0.0       0.0  \n",
       "2          649.91             May-16                  0.0       0.0  \n",
       "3          357.48             Apr-16                  0.0       0.0  \n",
       "4           67.79             May-16                  0.0       0.0  \n",
       "\n",
       "[5 rows x 43 columns]"
      ]
     },
     "execution_count": 1001,
     "metadata": {},
     "output_type": "execute_result"
    }
   ],
   "source": [
    "loan.head()"
   ]
  },
  {
   "cell_type": "code",
   "execution_count": 1002,
   "id": "ba914043",
   "metadata": {},
   "outputs": [
    {
     "data": {
      "text/plain": [
       "(39717, 43)"
      ]
     },
     "execution_count": 1002,
     "metadata": {},
     "output_type": "execute_result"
    }
   ],
   "source": [
    "loan.shape"
   ]
  },
  {
   "cell_type": "code",
   "execution_count": 1003,
   "id": "e68821f4",
   "metadata": {},
   "outputs": [
    {
     "data": {
      "text/plain": [
       "array([ 0., nan])"
      ]
     },
     "execution_count": 1003,
     "metadata": {},
     "output_type": "execute_result"
    }
   ],
   "source": [
    "loan['tax_liens'].unique()"
   ]
  },
  {
   "cell_type": "markdown",
   "id": "4ca087bf",
   "metadata": {},
   "source": [
    "##### tax_liens has 0 and null only"
   ]
  },
  {
   "cell_type": "code",
   "execution_count": 1004,
   "id": "a080f914",
   "metadata": {},
   "outputs": [],
   "source": [
    "del loan['tax_liens']"
   ]
  },
  {
   "cell_type": "code",
   "execution_count": 1005,
   "id": "a6f3d764",
   "metadata": {},
   "outputs": [
    {
     "data": {
      "text/plain": [
       "array([ 0.,  1.,  2., nan])"
      ]
     },
     "execution_count": 1005,
     "metadata": {},
     "output_type": "execute_result"
    }
   ],
   "source": [
    "loan['pub_rec_bankruptcies'].unique()"
   ]
  },
  {
   "cell_type": "code",
   "execution_count": 1006,
   "id": "48da6058",
   "metadata": {},
   "outputs": [
    {
     "data": {
      "text/plain": [
       "37339"
      ]
     },
     "execution_count": 1006,
     "metadata": {},
     "output_type": "execute_result"
    }
   ],
   "source": [
    "loan[loan['pub_rec_bankruptcies'] == 0.]['pub_rec_bankruptcies'].count()"
   ]
  },
  {
   "cell_type": "code",
   "execution_count": 1007,
   "id": "36e897b8",
   "metadata": {},
   "outputs": [
    {
     "data": {
      "text/plain": [
       "0"
      ]
     },
     "execution_count": 1007,
     "metadata": {},
     "output_type": "execute_result"
    }
   ],
   "source": [
    "loan[loan['pub_rec_bankruptcies'].isna()]['pub_rec_bankruptcies'].count()"
   ]
  },
  {
   "cell_type": "code",
   "execution_count": 1008,
   "id": "1d6409db",
   "metadata": {},
   "outputs": [
    {
     "data": {
      "text/plain": [
       "0.017549160309187503"
      ]
     },
     "execution_count": 1008,
     "metadata": {},
     "output_type": "execute_result"
    }
   ],
   "source": [
    "loan[loan['pub_rec_bankruptcies'].isna()].shape[0]/loan.id.count()"
   ]
  },
  {
   "cell_type": "code",
   "execution_count": 1009,
   "id": "d5a53f75",
   "metadata": {},
   "outputs": [
    {
     "data": {
      "text/plain": [
       "array([0, 1, 2, 3, 4])"
      ]
     },
     "execution_count": 1009,
     "metadata": {},
     "output_type": "execute_result"
    }
   ],
   "source": [
    "loan['pub_rec'].unique()"
   ]
  },
  {
   "cell_type": "code",
   "execution_count": 1010,
   "id": "ece636d4",
   "metadata": {},
   "outputs": [
    {
     "data": {
      "text/plain": [
       "array([' 36 months', ' 60 months'], dtype=object)"
      ]
     },
     "execution_count": 1010,
     "metadata": {},
     "output_type": "execute_result"
    }
   ],
   "source": [
    "loan['term'].unique()"
   ]
  },
  {
   "cell_type": "code",
   "execution_count": 1011,
   "id": "ef2a49d2",
   "metadata": {},
   "outputs": [
    {
     "data": {
      "text/plain": [
       "(39717, 42)"
      ]
     },
     "execution_count": 1011,
     "metadata": {},
     "output_type": "execute_result"
    }
   ],
   "source": [
    "loan.shape"
   ]
  },
  {
   "cell_type": "code",
   "execution_count": 1012,
   "id": "1d8e9619",
   "metadata": {},
   "outputs": [
    {
     "name": "stdout",
     "output_type": "stream",
     "text": [
      "<class 'pandas.core.frame.DataFrame'>\n",
      "RangeIndex: 39717 entries, 0 to 39716\n",
      "Data columns (total 42 columns):\n",
      " #   Column                   Non-Null Count  Dtype  \n",
      "---  ------                   --------------  -----  \n",
      " 0   id                       39717 non-null  int64  \n",
      " 1   member_id                39717 non-null  int64  \n",
      " 2   loan_amnt                39717 non-null  int64  \n",
      " 3   funded_amnt              39717 non-null  int64  \n",
      " 4   funded_amnt_inv          39717 non-null  float64\n",
      " 5   term                     39717 non-null  object \n",
      " 6   int_rate                 39717 non-null  object \n",
      " 7   installment              39717 non-null  float64\n",
      " 8   grade                    39717 non-null  object \n",
      " 9   sub_grade                39717 non-null  object \n",
      " 10  emp_title                37258 non-null  object \n",
      " 11  emp_length               38642 non-null  object \n",
      " 12  home_ownership           39717 non-null  object \n",
      " 13  annual_inc               39717 non-null  float64\n",
      " 14  verification_status      39717 non-null  object \n",
      " 15  issue_d                  39717 non-null  object \n",
      " 16  loan_status              39717 non-null  object \n",
      " 17  purpose                  39717 non-null  object \n",
      " 18  title                    39706 non-null  object \n",
      " 19  addr_state               39717 non-null  object \n",
      " 20  dti                      39717 non-null  float64\n",
      " 21  delinq_2yrs              39717 non-null  int64  \n",
      " 22  earliest_cr_line         39717 non-null  object \n",
      " 23  inq_last_6mths           39717 non-null  int64  \n",
      " 24  open_acc                 39717 non-null  int64  \n",
      " 25  pub_rec                  39717 non-null  int64  \n",
      " 26  revol_bal                39717 non-null  int64  \n",
      " 27  revol_util               39667 non-null  object \n",
      " 28  total_acc                39717 non-null  int64  \n",
      " 29  out_prncp                39717 non-null  float64\n",
      " 30  out_prncp_inv            39717 non-null  float64\n",
      " 31  total_pymnt              39717 non-null  float64\n",
      " 32  total_pymnt_inv          39717 non-null  float64\n",
      " 33  total_rec_prncp          39717 non-null  float64\n",
      " 34  total_rec_int            39717 non-null  float64\n",
      " 35  total_rec_late_fee       39717 non-null  float64\n",
      " 36  recoveries               39717 non-null  float64\n",
      " 37  collection_recovery_fee  39717 non-null  float64\n",
      " 38  last_pymnt_d             39646 non-null  object \n",
      " 39  last_pymnt_amnt          39717 non-null  float64\n",
      " 40  last_credit_pull_d       39715 non-null  object \n",
      " 41  pub_rec_bankruptcies     39020 non-null  float64\n",
      "dtypes: float64(15), int64(10), object(17)\n",
      "memory usage: 12.7+ MB\n"
     ]
    }
   ],
   "source": [
    "loan.info()"
   ]
  },
  {
   "cell_type": "code",
   "execution_count": 1013,
   "id": "0316a7d2",
   "metadata": {},
   "outputs": [
    {
     "data": {
      "text/plain": [
       "0         Fully Paid\n",
       "1        Charged Off\n",
       "2         Fully Paid\n",
       "3         Fully Paid\n",
       "4            Current\n",
       "            ...     \n",
       "39712     Fully Paid\n",
       "39713     Fully Paid\n",
       "39714     Fully Paid\n",
       "39715     Fully Paid\n",
       "39716     Fully Paid\n",
       "Name: loan_status, Length: 39717, dtype: object"
      ]
     },
     "execution_count": 1013,
     "metadata": {},
     "output_type": "execute_result"
    }
   ],
   "source": [
    "loan.loan_status"
   ]
  },
  {
   "cell_type": "code",
   "execution_count": 1014,
   "id": "9d0bb12d",
   "metadata": {},
   "outputs": [
    {
     "data": {
      "text/html": [
       "<div>\n",
       "<style scoped>\n",
       "    .dataframe tbody tr th:only-of-type {\n",
       "        vertical-align: middle;\n",
       "    }\n",
       "\n",
       "    .dataframe tbody tr th {\n",
       "        vertical-align: top;\n",
       "    }\n",
       "\n",
       "    .dataframe thead th {\n",
       "        text-align: right;\n",
       "    }\n",
       "</style>\n",
       "<table border=\"1\" class=\"dataframe\">\n",
       "  <thead>\n",
       "    <tr style=\"text-align: right;\">\n",
       "      <th></th>\n",
       "      <th>emp_title</th>\n",
       "      <th>title</th>\n",
       "      <th>addr_state</th>\n",
       "    </tr>\n",
       "  </thead>\n",
       "  <tbody>\n",
       "    <tr>\n",
       "      <th>0</th>\n",
       "      <td>NaN</td>\n",
       "      <td>Computer</td>\n",
       "      <td>AZ</td>\n",
       "    </tr>\n",
       "    <tr>\n",
       "      <th>1</th>\n",
       "      <td>Ryder</td>\n",
       "      <td>bike</td>\n",
       "      <td>GA</td>\n",
       "    </tr>\n",
       "    <tr>\n",
       "      <th>2</th>\n",
       "      <td>NaN</td>\n",
       "      <td>real estate business</td>\n",
       "      <td>IL</td>\n",
       "    </tr>\n",
       "    <tr>\n",
       "      <th>3</th>\n",
       "      <td>AIR RESOURCES BOARD</td>\n",
       "      <td>personel</td>\n",
       "      <td>CA</td>\n",
       "    </tr>\n",
       "    <tr>\n",
       "      <th>4</th>\n",
       "      <td>University Medical Group</td>\n",
       "      <td>Personal</td>\n",
       "      <td>OR</td>\n",
       "    </tr>\n",
       "    <tr>\n",
       "      <th>...</th>\n",
       "      <td>...</td>\n",
       "      <td>...</td>\n",
       "      <td>...</td>\n",
       "    </tr>\n",
       "    <tr>\n",
       "      <th>39712</th>\n",
       "      <td>FiSite Research</td>\n",
       "      <td>Home Improvement</td>\n",
       "      <td>CO</td>\n",
       "    </tr>\n",
       "    <tr>\n",
       "      <th>39713</th>\n",
       "      <td>Squarewave Solutions, Ltd.</td>\n",
       "      <td>Retiring credit card debt</td>\n",
       "      <td>NC</td>\n",
       "    </tr>\n",
       "    <tr>\n",
       "      <th>39714</th>\n",
       "      <td>NaN</td>\n",
       "      <td>MBA Loan Consolidation</td>\n",
       "      <td>MA</td>\n",
       "    </tr>\n",
       "    <tr>\n",
       "      <th>39715</th>\n",
       "      <td>NaN</td>\n",
       "      <td>JAL Loan</td>\n",
       "      <td>MD</td>\n",
       "    </tr>\n",
       "    <tr>\n",
       "      <th>39716</th>\n",
       "      <td>Evergreen Center</td>\n",
       "      <td>Consolidation Loan</td>\n",
       "      <td>MA</td>\n",
       "    </tr>\n",
       "  </tbody>\n",
       "</table>\n",
       "<p>39717 rows × 3 columns</p>\n",
       "</div>"
      ],
      "text/plain": [
       "                        emp_title                      title addr_state\n",
       "0                             NaN                   Computer         AZ\n",
       "1                           Ryder                       bike         GA\n",
       "2                             NaN       real estate business         IL\n",
       "3             AIR RESOURCES BOARD                   personel         CA\n",
       "4        University Medical Group                   Personal         OR\n",
       "...                           ...                        ...        ...\n",
       "39712             FiSite Research           Home Improvement         CO\n",
       "39713  Squarewave Solutions, Ltd.  Retiring credit card debt         NC\n",
       "39714                         NaN     MBA Loan Consolidation         MA\n",
       "39715                         NaN                   JAL Loan         MD\n",
       "39716            Evergreen Center         Consolidation Loan         MA\n",
       "\n",
       "[39717 rows x 3 columns]"
      ]
     },
     "execution_count": 1014,
     "metadata": {},
     "output_type": "execute_result"
    }
   ],
   "source": [
    "loan[['emp_title','title', 'addr_state']]"
   ]
  },
  {
   "cell_type": "code",
   "execution_count": 1015,
   "id": "bb5807b8",
   "metadata": {},
   "outputs": [
    {
     "data": {
      "text/plain": [
       "array([nan, 'Ryder', 'AIR RESOURCES BOARD', ..., 'FiSite Research',\n",
       "       'Squarewave Solutions, Ltd.', 'Evergreen Center'], dtype=object)"
      ]
     },
     "execution_count": 1015,
     "metadata": {},
     "output_type": "execute_result"
    }
   ],
   "source": [
    "loan['emp_title'].unique()"
   ]
  },
  {
   "cell_type": "markdown",
   "id": "2f982ad0",
   "metadata": {},
   "source": [
    "##### emp_title has no significance in defaulter analysis"
   ]
  },
  {
   "cell_type": "code",
   "execution_count": 1016,
   "id": "0a407614",
   "metadata": {},
   "outputs": [],
   "source": [
    "del loan['emp_title']"
   ]
  },
  {
   "cell_type": "code",
   "execution_count": 1017,
   "id": "f5d58495",
   "metadata": {},
   "outputs": [
    {
     "data": {
      "text/plain": [
       "array(['Computer', 'bike', 'real estate business', ...,\n",
       "       'Retiring credit card debt', 'MBA Loan Consolidation', 'JAL Loan'],\n",
       "      dtype=object)"
      ]
     },
     "execution_count": 1017,
     "metadata": {},
     "output_type": "execute_result"
    }
   ],
   "source": [
    "loan['title'].unique()"
   ]
  },
  {
   "cell_type": "markdown",
   "id": "8ef6c67f",
   "metadata": {},
   "source": [
    "##### title has no significance in defaulter analysis"
   ]
  },
  {
   "cell_type": "code",
   "execution_count": 1018,
   "id": "cd2699b0",
   "metadata": {},
   "outputs": [],
   "source": [
    "del loan['title']"
   ]
  },
  {
   "cell_type": "code",
   "execution_count": 1019,
   "id": "248a5adf",
   "metadata": {},
   "outputs": [
    {
     "data": {
      "text/plain": [
       "(39717, 40)"
      ]
     },
     "execution_count": 1019,
     "metadata": {},
     "output_type": "execute_result"
    }
   ],
   "source": [
    "loan.shape"
   ]
  },
  {
   "cell_type": "markdown",
   "id": "eb905f1b",
   "metadata": {},
   "source": [
    "### 3. Datatype conversion"
   ]
  },
  {
   "cell_type": "code",
   "execution_count": 1020,
   "id": "749ef103",
   "metadata": {},
   "outputs": [
    {
     "name": "stdout",
     "output_type": "stream",
     "text": [
      "<class 'pandas.core.frame.DataFrame'>\n",
      "RangeIndex: 39717 entries, 0 to 39716\n",
      "Data columns (total 40 columns):\n",
      " #   Column                   Non-Null Count  Dtype  \n",
      "---  ------                   --------------  -----  \n",
      " 0   id                       39717 non-null  int64  \n",
      " 1   member_id                39717 non-null  int64  \n",
      " 2   loan_amnt                39717 non-null  int64  \n",
      " 3   funded_amnt              39717 non-null  int64  \n",
      " 4   funded_amnt_inv          39717 non-null  float64\n",
      " 5   term                     39717 non-null  object \n",
      " 6   int_rate                 39717 non-null  object \n",
      " 7   installment              39717 non-null  float64\n",
      " 8   grade                    39717 non-null  object \n",
      " 9   sub_grade                39717 non-null  object \n",
      " 10  emp_length               38642 non-null  object \n",
      " 11  home_ownership           39717 non-null  object \n",
      " 12  annual_inc               39717 non-null  float64\n",
      " 13  verification_status      39717 non-null  object \n",
      " 14  issue_d                  39717 non-null  object \n",
      " 15  loan_status              39717 non-null  object \n",
      " 16  purpose                  39717 non-null  object \n",
      " 17  addr_state               39717 non-null  object \n",
      " 18  dti                      39717 non-null  float64\n",
      " 19  delinq_2yrs              39717 non-null  int64  \n",
      " 20  earliest_cr_line         39717 non-null  object \n",
      " 21  inq_last_6mths           39717 non-null  int64  \n",
      " 22  open_acc                 39717 non-null  int64  \n",
      " 23  pub_rec                  39717 non-null  int64  \n",
      " 24  revol_bal                39717 non-null  int64  \n",
      " 25  revol_util               39667 non-null  object \n",
      " 26  total_acc                39717 non-null  int64  \n",
      " 27  out_prncp                39717 non-null  float64\n",
      " 28  out_prncp_inv            39717 non-null  float64\n",
      " 29  total_pymnt              39717 non-null  float64\n",
      " 30  total_pymnt_inv          39717 non-null  float64\n",
      " 31  total_rec_prncp          39717 non-null  float64\n",
      " 32  total_rec_int            39717 non-null  float64\n",
      " 33  total_rec_late_fee       39717 non-null  float64\n",
      " 34  recoveries               39717 non-null  float64\n",
      " 35  collection_recovery_fee  39717 non-null  float64\n",
      " 36  last_pymnt_d             39646 non-null  object \n",
      " 37  last_pymnt_amnt          39717 non-null  float64\n",
      " 38  last_credit_pull_d       39715 non-null  object \n",
      " 39  pub_rec_bankruptcies     39020 non-null  float64\n",
      "dtypes: float64(15), int64(10), object(15)\n",
      "memory usage: 12.1+ MB\n"
     ]
    }
   ],
   "source": [
    "loan.info()"
   ]
  },
  {
   "cell_type": "code",
   "execution_count": 1021,
   "id": "b33ff3fb",
   "metadata": {},
   "outputs": [
    {
     "data": {
      "text/plain": [
       "0        May-16\n",
       "1        Sep-13\n",
       "2        May-16\n",
       "3        Apr-16\n",
       "4        May-16\n",
       "          ...  \n",
       "39712    Jun-10\n",
       "39713    Jul-10\n",
       "39714    Jun-07\n",
       "39715    Jun-07\n",
       "39716    Jun-10\n",
       "Name: last_credit_pull_d, Length: 39717, dtype: object"
      ]
     },
     "execution_count": 1021,
     "metadata": {},
     "output_type": "execute_result"
    }
   ],
   "source": [
    "loan.last_credit_pull_d"
   ]
  },
  {
   "cell_type": "code",
   "execution_count": 1022,
   "id": "ce1a6938",
   "metadata": {},
   "outputs": [
    {
     "data": {
      "text/plain": [
       "'object'"
      ]
     },
     "execution_count": 1022,
     "metadata": {},
     "output_type": "execute_result"
    }
   ],
   "source": [
    "str(loan['last_credit_pull_d'].dtypes)"
   ]
  },
  {
   "cell_type": "markdown",
   "id": "dfefaf39",
   "metadata": {},
   "source": [
    "##### printing all the object data type columns"
   ]
  },
  {
   "cell_type": "code",
   "execution_count": 1023,
   "id": "f94624c4",
   "metadata": {},
   "outputs": [
    {
     "name": "stdout",
     "output_type": "stream",
     "text": [
      "term\n",
      "int_rate\n",
      "grade\n",
      "sub_grade\n",
      "emp_length\n",
      "home_ownership\n",
      "verification_status\n",
      "issue_d\n",
      "loan_status\n",
      "purpose\n",
      "addr_state\n",
      "earliest_cr_line\n",
      "revol_util\n",
      "last_pymnt_d\n",
      "last_credit_pull_d\n"
     ]
    }
   ],
   "source": [
    "obj_var = ''\n",
    "for i in loan.columns:\n",
    "    if str(loan[i].dtypes) == 'object':\n",
    "        print(i)\n",
    "        obj_var = obj_var + ',' +i"
   ]
  },
  {
   "cell_type": "code",
   "execution_count": 1024,
   "id": "7e9a0e32",
   "metadata": {},
   "outputs": [
    {
     "data": {
      "text/plain": [
       "0        10.65%\n",
       "1        15.27%\n",
       "2        15.96%\n",
       "3        13.49%\n",
       "4        12.69%\n",
       "          ...  \n",
       "39712     8.07%\n",
       "39713    10.28%\n",
       "39714     8.07%\n",
       "39715     7.43%\n",
       "39716    13.75%\n",
       "Name: int_rate, Length: 39717, dtype: object"
      ]
     },
     "execution_count": 1024,
     "metadata": {},
     "output_type": "execute_result"
    }
   ],
   "source": [
    "loan.int_rate"
   ]
  },
  {
   "cell_type": "markdown",
   "id": "c7ef84c9",
   "metadata": {},
   "source": [
    "##### converting int_rate from object to float and removing '%' sign"
   ]
  },
  {
   "cell_type": "code",
   "execution_count": 1025,
   "id": "fbf186db",
   "metadata": {},
   "outputs": [],
   "source": [
    "loan.int_rate = loan.int_rate.apply(lambda x: float(x.replace('%','')))"
   ]
  },
  {
   "cell_type": "code",
   "execution_count": 1026,
   "id": "e5e9728b",
   "metadata": {},
   "outputs": [
    {
     "data": {
      "text/plain": [
       "0        10.65\n",
       "1        15.27\n",
       "2        15.96\n",
       "3        13.49\n",
       "4        12.69\n",
       "         ...  \n",
       "39712     8.07\n",
       "39713    10.28\n",
       "39714     8.07\n",
       "39715     7.43\n",
       "39716    13.75\n",
       "Name: int_rate, Length: 39717, dtype: float64"
      ]
     },
     "execution_count": 1026,
     "metadata": {},
     "output_type": "execute_result"
    }
   ],
   "source": [
    "loan.int_rate"
   ]
  },
  {
   "cell_type": "code",
   "execution_count": 1027,
   "id": "2df79629",
   "metadata": {},
   "outputs": [
    {
     "data": {
      "text/plain": [
       "0        B\n",
       "1        C\n",
       "2        C\n",
       "3        C\n",
       "4        B\n",
       "        ..\n",
       "39712    A\n",
       "39713    C\n",
       "39714    A\n",
       "39715    A\n",
       "39716    E\n",
       "Name: grade, Length: 39717, dtype: object"
      ]
     },
     "execution_count": 1027,
     "metadata": {},
     "output_type": "execute_result"
    }
   ],
   "source": [
    "loan.grade"
   ]
  },
  {
   "cell_type": "markdown",
   "id": "d236e3d9",
   "metadata": {},
   "source": [
    "##### converting grade data type from object to string"
   ]
  },
  {
   "cell_type": "code",
   "execution_count": 1028,
   "id": "e2474178",
   "metadata": {},
   "outputs": [
    {
     "data": {
      "text/plain": [
       "0        B\n",
       "1        C\n",
       "2        C\n",
       "3        C\n",
       "4        B\n",
       "        ..\n",
       "39712    A\n",
       "39713    C\n",
       "39714    A\n",
       "39715    A\n",
       "39716    E\n",
       "Name: grade, Length: 39717, dtype: object"
      ]
     },
     "execution_count": 1028,
     "metadata": {},
     "output_type": "execute_result"
    }
   ],
   "source": [
    "loan.grade.apply(lambda x: str(x))"
   ]
  },
  {
   "cell_type": "code",
   "execution_count": 1029,
   "id": "56352c28",
   "metadata": {},
   "outputs": [
    {
     "data": {
      "text/plain": [
       "array(['B', 'C', 'A', 'E', 'F', 'D', 'G'], dtype=object)"
      ]
     },
     "execution_count": 1029,
     "metadata": {},
     "output_type": "execute_result"
    }
   ],
   "source": [
    "loan.grade.unique()"
   ]
  },
  {
   "cell_type": "code",
   "execution_count": 1030,
   "id": "2614b1e8",
   "metadata": {},
   "outputs": [
    {
     "data": {
      "text/plain": [
       "array(['B', 'C', 'A', 'E', 'F', 'D', 'G'], dtype=object)"
      ]
     },
     "execution_count": 1030,
     "metadata": {},
     "output_type": "execute_result"
    }
   ],
   "source": [
    "loan.grade.apply(lambda x: str(x.replace(\"'\",''))).unique()"
   ]
  },
  {
   "cell_type": "code",
   "execution_count": 1031,
   "id": "3bbaa02c",
   "metadata": {},
   "outputs": [],
   "source": [
    "loan.grade = loan.grade.apply(lambda x: 1 if x == 'A' \n",
    "                 else (2 if x == 'B' \n",
    "                       else (3 if x == 'C' \n",
    "                             else (4 if x == 'D' \n",
    "                                   else(5 if x == 'E' \n",
    "                                        else(6 if x =='F' else 7))))))"
   ]
  },
  {
   "cell_type": "code",
   "execution_count": 1032,
   "id": "c34bb419",
   "metadata": {},
   "outputs": [
    {
     "name": "stdout",
     "output_type": "stream",
     "text": [
      "term\n",
      "sub_grade\n",
      "emp_length\n",
      "home_ownership\n",
      "verification_status\n",
      "issue_d\n",
      "loan_status\n",
      "purpose\n",
      "addr_state\n",
      "earliest_cr_line\n",
      "revol_util\n",
      "last_pymnt_d\n",
      "last_credit_pull_d\n"
     ]
    }
   ],
   "source": [
    "for i in loan.columns:\n",
    "    if str(loan[i].dtypes) == 'object':\n",
    "        print(i)"
   ]
  },
  {
   "cell_type": "markdown",
   "id": "2b1ef1bb",
   "metadata": {},
   "source": [
    "##### sub_grade has alpha numeric, so leaving as is"
   ]
  },
  {
   "cell_type": "code",
   "execution_count": 1033,
   "id": "7c0448de",
   "metadata": {},
   "outputs": [
    {
     "data": {
      "text/plain": [
       "array(['B2', 'C4', 'C5', 'C1', 'B5', 'A4', 'E1', 'F2', 'C3', 'B1', 'D1',\n",
       "       'A1', 'B3', 'B4', 'C2', 'D2', 'A3', 'A5', 'D5', 'A2', 'E4', 'D3',\n",
       "       'D4', 'F3', 'E3', 'F4', 'F1', 'E5', 'G4', 'E2', 'G3', 'G2', 'G1',\n",
       "       'F5', 'G5'], dtype=object)"
      ]
     },
     "execution_count": 1033,
     "metadata": {},
     "output_type": "execute_result"
    }
   ],
   "source": [
    "loan.sub_grade.unique()"
   ]
  },
  {
   "cell_type": "markdown",
   "id": "b0f809a4",
   "metadata": {},
   "source": [
    "##### converting emp_length to numeric by converting it to years only"
   ]
  },
  {
   "cell_type": "code",
   "execution_count": 1034,
   "id": "b1551629",
   "metadata": {},
   "outputs": [
    {
     "data": {
      "text/plain": [
       "array(['10+ years', '< 1 year', '1 year', '3 years', '8 years', '9 years',\n",
       "       '4 years', '5 years', '6 years', '2 years', '7 years', nan],\n",
       "      dtype=object)"
      ]
     },
     "execution_count": 1034,
     "metadata": {},
     "output_type": "execute_result"
    }
   ],
   "source": [
    "loan.emp_length.unique()"
   ]
  },
  {
   "cell_type": "code",
   "execution_count": 1035,
   "id": "d6f1cfd8",
   "metadata": {},
   "outputs": [
    {
     "data": {
      "text/html": [
       "<div>\n",
       "<style scoped>\n",
       "    .dataframe tbody tr th:only-of-type {\n",
       "        vertical-align: middle;\n",
       "    }\n",
       "\n",
       "    .dataframe tbody tr th {\n",
       "        vertical-align: top;\n",
       "    }\n",
       "\n",
       "    .dataframe thead th {\n",
       "        text-align: right;\n",
       "    }\n",
       "</style>\n",
       "<table border=\"1\" class=\"dataframe\">\n",
       "  <thead>\n",
       "    <tr style=\"text-align: right;\">\n",
       "      <th></th>\n",
       "      <th>id</th>\n",
       "      <th>member_id</th>\n",
       "      <th>loan_amnt</th>\n",
       "      <th>funded_amnt</th>\n",
       "      <th>funded_amnt_inv</th>\n",
       "      <th>term</th>\n",
       "      <th>int_rate</th>\n",
       "      <th>installment</th>\n",
       "      <th>grade</th>\n",
       "      <th>sub_grade</th>\n",
       "      <th>...</th>\n",
       "      <th>total_pymnt_inv</th>\n",
       "      <th>total_rec_prncp</th>\n",
       "      <th>total_rec_int</th>\n",
       "      <th>total_rec_late_fee</th>\n",
       "      <th>recoveries</th>\n",
       "      <th>collection_recovery_fee</th>\n",
       "      <th>last_pymnt_d</th>\n",
       "      <th>last_pymnt_amnt</th>\n",
       "      <th>last_credit_pull_d</th>\n",
       "      <th>pub_rec_bankruptcies</th>\n",
       "    </tr>\n",
       "  </thead>\n",
       "  <tbody>\n",
       "    <tr>\n",
       "      <th>168</th>\n",
       "      <td>1067644</td>\n",
       "      <td>1302032</td>\n",
       "      <td>2500</td>\n",
       "      <td>2500</td>\n",
       "      <td>2500.00000</td>\n",
       "      <td>36 months</td>\n",
       "      <td>7.51</td>\n",
       "      <td>77.78</td>\n",
       "      <td>1</td>\n",
       "      <td>A3</td>\n",
       "      <td>...</td>\n",
       "      <td>1838.88</td>\n",
       "      <td>1575.06</td>\n",
       "      <td>253.74</td>\n",
       "      <td>0.00</td>\n",
       "      <td>10.08</td>\n",
       "      <td>0.0000</td>\n",
       "      <td>Dec-13</td>\n",
       "      <td>77.78</td>\n",
       "      <td>May-16</td>\n",
       "      <td>0.0</td>\n",
       "    </tr>\n",
       "    <tr>\n",
       "      <th>323</th>\n",
       "      <td>1058717</td>\n",
       "      <td>1290516</td>\n",
       "      <td>18000</td>\n",
       "      <td>18000</td>\n",
       "      <td>18000.00000</td>\n",
       "      <td>60 months</td>\n",
       "      <td>17.58</td>\n",
       "      <td>452.98</td>\n",
       "      <td>4</td>\n",
       "      <td>D4</td>\n",
       "      <td>...</td>\n",
       "      <td>26378.55</td>\n",
       "      <td>18000.00</td>\n",
       "      <td>8378.55</td>\n",
       "      <td>0.00</td>\n",
       "      <td>0.00</td>\n",
       "      <td>0.0000</td>\n",
       "      <td>Sep-15</td>\n",
       "      <td>6909.59</td>\n",
       "      <td>Sep-15</td>\n",
       "      <td>0.0</td>\n",
       "    </tr>\n",
       "    <tr>\n",
       "      <th>394</th>\n",
       "      <td>1064582</td>\n",
       "      <td>1298394</td>\n",
       "      <td>4000</td>\n",
       "      <td>4000</td>\n",
       "      <td>4000.00000</td>\n",
       "      <td>36 months</td>\n",
       "      <td>11.71</td>\n",
       "      <td>132.31</td>\n",
       "      <td>2</td>\n",
       "      <td>B3</td>\n",
       "      <td>...</td>\n",
       "      <td>4186.02</td>\n",
       "      <td>4000.00</td>\n",
       "      <td>186.02</td>\n",
       "      <td>0.00</td>\n",
       "      <td>0.00</td>\n",
       "      <td>0.0000</td>\n",
       "      <td>May-12</td>\n",
       "      <td>3658.15</td>\n",
       "      <td>May-12</td>\n",
       "      <td>0.0</td>\n",
       "    </tr>\n",
       "    <tr>\n",
       "      <th>422</th>\n",
       "      <td>1064366</td>\n",
       "      <td>1298164</td>\n",
       "      <td>1000</td>\n",
       "      <td>1000</td>\n",
       "      <td>1000.00000</td>\n",
       "      <td>36 months</td>\n",
       "      <td>14.65</td>\n",
       "      <td>34.50</td>\n",
       "      <td>3</td>\n",
       "      <td>C3</td>\n",
       "      <td>...</td>\n",
       "      <td>91.31</td>\n",
       "      <td>22.24</td>\n",
       "      <td>12.18</td>\n",
       "      <td>0.00</td>\n",
       "      <td>56.89</td>\n",
       "      <td>10.2402</td>\n",
       "      <td>Jan-12</td>\n",
       "      <td>34.50</td>\n",
       "      <td>Jun-12</td>\n",
       "      <td>1.0</td>\n",
       "    </tr>\n",
       "    <tr>\n",
       "      <th>439</th>\n",
       "      <td>1063912</td>\n",
       "      <td>1296491</td>\n",
       "      <td>8250</td>\n",
       "      <td>8250</td>\n",
       "      <td>8250.00000</td>\n",
       "      <td>36 months</td>\n",
       "      <td>7.51</td>\n",
       "      <td>256.67</td>\n",
       "      <td>1</td>\n",
       "      <td>A3</td>\n",
       "      <td>...</td>\n",
       "      <td>9239.89</td>\n",
       "      <td>8250.00</td>\n",
       "      <td>989.89</td>\n",
       "      <td>0.00</td>\n",
       "      <td>0.00</td>\n",
       "      <td>0.0000</td>\n",
       "      <td>Dec-14</td>\n",
       "      <td>278.92</td>\n",
       "      <td>Dec-14</td>\n",
       "      <td>0.0</td>\n",
       "    </tr>\n",
       "    <tr>\n",
       "      <th>...</th>\n",
       "      <td>...</td>\n",
       "      <td>...</td>\n",
       "      <td>...</td>\n",
       "      <td>...</td>\n",
       "      <td>...</td>\n",
       "      <td>...</td>\n",
       "      <td>...</td>\n",
       "      <td>...</td>\n",
       "      <td>...</td>\n",
       "      <td>...</td>\n",
       "      <td>...</td>\n",
       "      <td>...</td>\n",
       "      <td>...</td>\n",
       "      <td>...</td>\n",
       "      <td>...</td>\n",
       "      <td>...</td>\n",
       "      <td>...</td>\n",
       "      <td>...</td>\n",
       "      <td>...</td>\n",
       "      <td>...</td>\n",
       "      <td>...</td>\n",
       "    </tr>\n",
       "    <tr>\n",
       "      <th>32591</th>\n",
       "      <td>480410</td>\n",
       "      <td>610728</td>\n",
       "      <td>10000</td>\n",
       "      <td>10000</td>\n",
       "      <td>9975.00000</td>\n",
       "      <td>36 months</td>\n",
       "      <td>14.22</td>\n",
       "      <td>342.85</td>\n",
       "      <td>3</td>\n",
       "      <td>C5</td>\n",
       "      <td>...</td>\n",
       "      <td>10431.80</td>\n",
       "      <td>10000.00</td>\n",
       "      <td>457.94</td>\n",
       "      <td>0.00</td>\n",
       "      <td>0.00</td>\n",
       "      <td>0.0000</td>\n",
       "      <td>Jun-10</td>\n",
       "      <td>9431.97</td>\n",
       "      <td>Jul-10</td>\n",
       "      <td>0.0</td>\n",
       "    </tr>\n",
       "    <tr>\n",
       "      <th>32608</th>\n",
       "      <td>480216</td>\n",
       "      <td>610335</td>\n",
       "      <td>3700</td>\n",
       "      <td>3700</td>\n",
       "      <td>3700.00000</td>\n",
       "      <td>36 months</td>\n",
       "      <td>14.22</td>\n",
       "      <td>126.86</td>\n",
       "      <td>3</td>\n",
       "      <td>C5</td>\n",
       "      <td>...</td>\n",
       "      <td>4566.72</td>\n",
       "      <td>3700.00</td>\n",
       "      <td>866.72</td>\n",
       "      <td>0.00</td>\n",
       "      <td>0.00</td>\n",
       "      <td>0.0000</td>\n",
       "      <td>Feb-13</td>\n",
       "      <td>132.70</td>\n",
       "      <td>Apr-16</td>\n",
       "      <td>0.0</td>\n",
       "    </tr>\n",
       "    <tr>\n",
       "      <th>32621</th>\n",
       "      <td>479954</td>\n",
       "      <td>609955</td>\n",
       "      <td>10000</td>\n",
       "      <td>10000</td>\n",
       "      <td>9731.17513</td>\n",
       "      <td>36 months</td>\n",
       "      <td>14.22</td>\n",
       "      <td>342.85</td>\n",
       "      <td>3</td>\n",
       "      <td>C5</td>\n",
       "      <td>...</td>\n",
       "      <td>7431.53</td>\n",
       "      <td>5591.87</td>\n",
       "      <td>1938.07</td>\n",
       "      <td>0.00</td>\n",
       "      <td>12.43</td>\n",
       "      <td>4.3000</td>\n",
       "      <td>Dec-11</td>\n",
       "      <td>342.85</td>\n",
       "      <td>Apr-16</td>\n",
       "      <td>0.0</td>\n",
       "    </tr>\n",
       "    <tr>\n",
       "      <th>32631</th>\n",
       "      <td>479836</td>\n",
       "      <td>609803</td>\n",
       "      <td>6000</td>\n",
       "      <td>6000</td>\n",
       "      <td>6000.00000</td>\n",
       "      <td>36 months</td>\n",
       "      <td>12.73</td>\n",
       "      <td>201.40</td>\n",
       "      <td>3</td>\n",
       "      <td>C1</td>\n",
       "      <td>...</td>\n",
       "      <td>7250.83</td>\n",
       "      <td>6000.00</td>\n",
       "      <td>1250.83</td>\n",
       "      <td>0.00</td>\n",
       "      <td>0.00</td>\n",
       "      <td>0.0000</td>\n",
       "      <td>Feb-13</td>\n",
       "      <td>222.95</td>\n",
       "      <td>Feb-13</td>\n",
       "      <td>0.0</td>\n",
       "    </tr>\n",
       "    <tr>\n",
       "      <th>32665</th>\n",
       "      <td>479468</td>\n",
       "      <td>609246</td>\n",
       "      <td>25000</td>\n",
       "      <td>25000</td>\n",
       "      <td>23912.90328</td>\n",
       "      <td>36 months</td>\n",
       "      <td>10.25</td>\n",
       "      <td>809.62</td>\n",
       "      <td>2</td>\n",
       "      <td>B2</td>\n",
       "      <td>...</td>\n",
       "      <td>27680.42</td>\n",
       "      <td>25000.00</td>\n",
       "      <td>3904.60</td>\n",
       "      <td>35.48</td>\n",
       "      <td>0.00</td>\n",
       "      <td>0.0000</td>\n",
       "      <td>Jun-12</td>\n",
       "      <td>7081.29</td>\n",
       "      <td>Jun-12</td>\n",
       "      <td>0.0</td>\n",
       "    </tr>\n",
       "  </tbody>\n",
       "</table>\n",
       "<p>1075 rows × 40 columns</p>\n",
       "</div>"
      ],
      "text/plain": [
       "            id  member_id  loan_amnt  funded_amnt  funded_amnt_inv  \\\n",
       "168    1067644    1302032       2500         2500       2500.00000   \n",
       "323    1058717    1290516      18000        18000      18000.00000   \n",
       "394    1064582    1298394       4000         4000       4000.00000   \n",
       "422    1064366    1298164       1000         1000       1000.00000   \n",
       "439    1063912    1296491       8250         8250       8250.00000   \n",
       "...        ...        ...        ...          ...              ...   \n",
       "32591   480410     610728      10000        10000       9975.00000   \n",
       "32608   480216     610335       3700         3700       3700.00000   \n",
       "32621   479954     609955      10000        10000       9731.17513   \n",
       "32631   479836     609803       6000         6000       6000.00000   \n",
       "32665   479468     609246      25000        25000      23912.90328   \n",
       "\n",
       "             term  int_rate  installment  grade sub_grade  ...  \\\n",
       "168     36 months      7.51        77.78      1        A3  ...   \n",
       "323     60 months     17.58       452.98      4        D4  ...   \n",
       "394     36 months     11.71       132.31      2        B3  ...   \n",
       "422     36 months     14.65        34.50      3        C3  ...   \n",
       "439     36 months      7.51       256.67      1        A3  ...   \n",
       "...           ...       ...          ...    ...       ...  ...   \n",
       "32591   36 months     14.22       342.85      3        C5  ...   \n",
       "32608   36 months     14.22       126.86      3        C5  ...   \n",
       "32621   36 months     14.22       342.85      3        C5  ...   \n",
       "32631   36 months     12.73       201.40      3        C1  ...   \n",
       "32665   36 months     10.25       809.62      2        B2  ...   \n",
       "\n",
       "      total_pymnt_inv total_rec_prncp  total_rec_int total_rec_late_fee  \\\n",
       "168           1838.88         1575.06         253.74               0.00   \n",
       "323          26378.55        18000.00        8378.55               0.00   \n",
       "394           4186.02         4000.00         186.02               0.00   \n",
       "422             91.31           22.24          12.18               0.00   \n",
       "439           9239.89         8250.00         989.89               0.00   \n",
       "...               ...             ...            ...                ...   \n",
       "32591        10431.80        10000.00         457.94               0.00   \n",
       "32608         4566.72         3700.00         866.72               0.00   \n",
       "32621         7431.53         5591.87        1938.07               0.00   \n",
       "32631         7250.83         6000.00        1250.83               0.00   \n",
       "32665        27680.42        25000.00        3904.60              35.48   \n",
       "\n",
       "      recoveries collection_recovery_fee last_pymnt_d last_pymnt_amnt  \\\n",
       "168        10.08                  0.0000       Dec-13           77.78   \n",
       "323         0.00                  0.0000       Sep-15         6909.59   \n",
       "394         0.00                  0.0000       May-12         3658.15   \n",
       "422        56.89                 10.2402       Jan-12           34.50   \n",
       "439         0.00                  0.0000       Dec-14          278.92   \n",
       "...          ...                     ...          ...             ...   \n",
       "32591       0.00                  0.0000       Jun-10         9431.97   \n",
       "32608       0.00                  0.0000       Feb-13          132.70   \n",
       "32621      12.43                  4.3000       Dec-11          342.85   \n",
       "32631       0.00                  0.0000       Feb-13          222.95   \n",
       "32665       0.00                  0.0000       Jun-12         7081.29   \n",
       "\n",
       "       last_credit_pull_d  pub_rec_bankruptcies  \n",
       "168                May-16                   0.0  \n",
       "323                Sep-15                   0.0  \n",
       "394                May-12                   0.0  \n",
       "422                Jun-12                   1.0  \n",
       "439                Dec-14                   0.0  \n",
       "...                   ...                   ...  \n",
       "32591              Jul-10                   0.0  \n",
       "32608              Apr-16                   0.0  \n",
       "32621              Apr-16                   0.0  \n",
       "32631              Feb-13                   0.0  \n",
       "32665              Jun-12                   0.0  \n",
       "\n",
       "[1075 rows x 40 columns]"
      ]
     },
     "execution_count": 1035,
     "metadata": {},
     "output_type": "execute_result"
    }
   ],
   "source": [
    "loan[loan.emp_length.isnull()]"
   ]
  },
  {
   "cell_type": "code",
   "execution_count": 1036,
   "id": "07eddef3",
   "metadata": {},
   "outputs": [
    {
     "data": {
      "text/plain": [
       "id                                    1067644\n",
       "member_id                             1302032\n",
       "loan_amnt                                2500\n",
       "funded_amnt                              2500\n",
       "funded_amnt_inv                        2500.0\n",
       "term                                36 months\n",
       "int_rate                                 7.51\n",
       "installment                             77.78\n",
       "grade                                       1\n",
       "sub_grade                                  A3\n",
       "emp_length                                NaN\n",
       "home_ownership                            OWN\n",
       "annual_inc                            12000.0\n",
       "verification_status           Source Verified\n",
       "issue_d                                Dec-11\n",
       "loan_status                       Charged Off\n",
       "purpose                    debt_consolidation\n",
       "addr_state                                 CA\n",
       "dti                                      16.3\n",
       "delinq_2yrs                                 0\n",
       "earliest_cr_line                       Aug-94\n",
       "inq_last_6mths                              2\n",
       "open_acc                                   13\n",
       "pub_rec                                     0\n",
       "revol_bal                                4853\n",
       "revol_util                             42.20%\n",
       "total_acc                                  20\n",
       "out_prncp                                 0.0\n",
       "out_prncp_inv                             0.0\n",
       "total_pymnt                           1838.88\n",
       "total_pymnt_inv                       1838.88\n",
       "total_rec_prncp                       1575.06\n",
       "total_rec_int                          253.74\n",
       "total_rec_late_fee                        0.0\n",
       "recoveries                              10.08\n",
       "collection_recovery_fee                   0.0\n",
       "last_pymnt_d                           Dec-13\n",
       "last_pymnt_amnt                         77.78\n",
       "last_credit_pull_d                     May-16\n",
       "pub_rec_bankruptcies                      0.0\n",
       "Name: 168, dtype: object"
      ]
     },
     "execution_count": 1036,
     "metadata": {},
     "output_type": "execute_result"
    }
   ],
   "source": [
    "loan.loc[168]"
   ]
  },
  {
   "cell_type": "code",
   "execution_count": 1037,
   "id": "28ba85c6",
   "metadata": {},
   "outputs": [
    {
     "data": {
      "text/plain": [
       "id                                 1062288\n",
       "member_id                          1294350\n",
       "loan_amnt                            13500\n",
       "funded_amnt                          13500\n",
       "funded_amnt_inv                    13500.0\n",
       "term                             36 months\n",
       "int_rate                              9.91\n",
       "installment                         435.04\n",
       "grade                                    2\n",
       "sub_grade                               B1\n",
       "emp_length                         2 years\n",
       "home_ownership                    MORTGAGE\n",
       "annual_inc                         36000.0\n",
       "verification_status        Source Verified\n",
       "issue_d                             Dec-11\n",
       "loan_status                     Fully Paid\n",
       "purpose                        credit_card\n",
       "addr_state                              DC\n",
       "dti                                  22.93\n",
       "delinq_2yrs                              0\n",
       "earliest_cr_line                    Apr-80\n",
       "inq_last_6mths                           1\n",
       "open_acc                                13\n",
       "pub_rec                                  0\n",
       "revol_bal                            25011\n",
       "revol_util                          67.20%\n",
       "total_acc                               15\n",
       "out_prncp                              0.0\n",
       "out_prncp_inv                          0.0\n",
       "total_pymnt                    15622.37656\n",
       "total_pymnt_inv                   15622.38\n",
       "total_rec_prncp                    13500.0\n",
       "total_rec_int                      2122.38\n",
       "total_rec_late_fee                     0.0\n",
       "recoveries                             0.0\n",
       "collection_recovery_fee                0.0\n",
       "last_pymnt_d                        Sep-14\n",
       "last_pymnt_amnt                    1706.24\n",
       "last_credit_pull_d                  May-16\n",
       "pub_rec_bankruptcies                   0.0\n",
       "Name: 169, dtype: object"
      ]
     },
     "execution_count": 1037,
     "metadata": {},
     "output_type": "execute_result"
    }
   ],
   "source": [
    "loan.loc[169]"
   ]
  },
  {
   "cell_type": "code",
   "execution_count": 1038,
   "id": "e51ac947",
   "metadata": {},
   "outputs": [
    {
     "data": {
      "text/plain": [
       "0.02781947104187154"
      ]
     },
     "execution_count": 1038,
     "metadata": {},
     "output_type": "execute_result"
    }
   ],
   "source": [
    "loan.emp_length.isnull().sum() / loan.emp_length.count()"
   ]
  },
  {
   "cell_type": "code",
   "execution_count": 1039,
   "id": "332957d5",
   "metadata": {},
   "outputs": [
    {
     "data": {
      "text/plain": [
       "1075"
      ]
     },
     "execution_count": 1039,
     "metadata": {},
     "output_type": "execute_result"
    }
   ],
   "source": [
    "loan.emp_length.isnull().sum()"
   ]
  },
  {
   "cell_type": "markdown",
   "id": "302907cc",
   "metadata": {},
   "source": [
    "##### converting alpha numeric datatype emp_length to numeric"
   ]
  },
  {
   "cell_type": "code",
   "execution_count": 1040,
   "id": "c0866f41",
   "metadata": {},
   "outputs": [],
   "source": [
    "loan.emp_length = loan.emp_length.apply(lambda x: int(0) if x == \"< 1 year\" \n",
    "                      else (1 if x=='1 year' \n",
    "                            else (2 if x=='2 years' \n",
    "                                  else (3 if x=='3 years' \n",
    "                                        else (4 if x=='4 years' \n",
    "                                              else (5 if x=='5 years' \n",
    "                                                    else(6 if x=='6 years' \n",
    "                                                         else (7 if x=='7 years' \n",
    "                                                               else(8 if x=='8 years' \n",
    "                                                                    else(9 if x=='9 years' \n",
    "                                                                         else(10 if x=='10+ years' else x) ))))))))))\n"
   ]
  },
  {
   "cell_type": "code",
   "execution_count": 1041,
   "id": "7a53f9f8",
   "metadata": {},
   "outputs": [
    {
     "data": {
      "text/plain": [
       "dtype('float64')"
      ]
     },
     "execution_count": 1041,
     "metadata": {},
     "output_type": "execute_result"
    }
   ],
   "source": [
    "loan.emp_length.dtype"
   ]
  },
  {
   "cell_type": "markdown",
   "id": "0f5c2a17",
   "metadata": {},
   "source": [
    "##### term has two unique values, removing months from its values"
   ]
  },
  {
   "cell_type": "code",
   "execution_count": 1042,
   "id": "ccf9cfef",
   "metadata": {},
   "outputs": [
    {
     "data": {
      "text/plain": [
       "array([' 36 months', ' 60 months'], dtype=object)"
      ]
     },
     "execution_count": 1042,
     "metadata": {},
     "output_type": "execute_result"
    }
   ],
   "source": [
    "loan.term.unique()"
   ]
  },
  {
   "cell_type": "code",
   "execution_count": 1043,
   "id": "6a4426d9",
   "metadata": {},
   "outputs": [],
   "source": [
    "loan.term = loan.term.apply(lambda x: x.replace('months',''))"
   ]
  },
  {
   "cell_type": "code",
   "execution_count": 1044,
   "id": "03615ef3",
   "metadata": {},
   "outputs": [
    {
     "data": {
      "text/plain": [
       "dtype('O')"
      ]
     },
     "execution_count": 1044,
     "metadata": {},
     "output_type": "execute_result"
    }
   ],
   "source": [
    "loan.term.dtype"
   ]
  },
  {
   "cell_type": "code",
   "execution_count": 1045,
   "id": "48375bc0",
   "metadata": {},
   "outputs": [
    {
     "data": {
      "text/plain": [
       "0        36\n",
       "1        60\n",
       "2        36\n",
       "3        36\n",
       "4        60\n",
       "         ..\n",
       "39712    36\n",
       "39713    36\n",
       "39714    36\n",
       "39715    36\n",
       "39716    36\n",
       "Name: term, Length: 39717, dtype: int32"
      ]
     },
     "execution_count": 1045,
     "metadata": {},
     "output_type": "execute_result"
    }
   ],
   "source": [
    "loan.term.str.strip().astype('int32')"
   ]
  },
  {
   "cell_type": "code",
   "execution_count": 1046,
   "id": "27004170",
   "metadata": {},
   "outputs": [],
   "source": [
    "loan.term = loan.term.str.strip().astype('int32')"
   ]
  },
  {
   "cell_type": "code",
   "execution_count": 1047,
   "id": "16fb00e0",
   "metadata": {},
   "outputs": [
    {
     "data": {
      "text/plain": [
       "dtype('int32')"
      ]
     },
     "execution_count": 1047,
     "metadata": {},
     "output_type": "execute_result"
    }
   ],
   "source": [
    "loan.term.dtype"
   ]
  },
  {
   "cell_type": "code",
   "execution_count": 1048,
   "id": "797c8e1d",
   "metadata": {},
   "outputs": [
    {
     "data": {
      "text/plain": [
       "array([36, 60], dtype=int32)"
      ]
     },
     "execution_count": 1048,
     "metadata": {},
     "output_type": "execute_result"
    }
   ],
   "source": [
    "loan.term.unique()"
   ]
  },
  {
   "cell_type": "code",
   "execution_count": 1049,
   "id": "098308ec",
   "metadata": {},
   "outputs": [
    {
     "name": "stdout",
     "output_type": "stream",
     "text": [
      "sub_grade\n",
      "home_ownership\n",
      "verification_status\n",
      "issue_d\n",
      "loan_status\n",
      "purpose\n",
      "addr_state\n",
      "earliest_cr_line\n",
      "revol_util\n",
      "last_pymnt_d\n",
      "last_credit_pull_d\n"
     ]
    }
   ],
   "source": [
    "for i in loan.columns:\n",
    "    if str(loan[i].dtypes) == 'object':\n",
    "        print(i)"
   ]
  },
  {
   "cell_type": "code",
   "execution_count": 1050,
   "id": "ba69afc1",
   "metadata": {},
   "outputs": [
    {
     "data": {
      "text/plain": [
       "array(['RENT', 'OWN', 'MORTGAGE', 'OTHER', 'NONE'], dtype=object)"
      ]
     },
     "execution_count": 1050,
     "metadata": {},
     "output_type": "execute_result"
    }
   ],
   "source": [
    "loan.home_ownership.unique()"
   ]
  },
  {
   "cell_type": "code",
   "execution_count": 1051,
   "id": "66e2be9a",
   "metadata": {},
   "outputs": [
    {
     "data": {
      "text/plain": [
       "array(['Verified', 'Source Verified', 'Not Verified'], dtype=object)"
      ]
     },
     "execution_count": 1051,
     "metadata": {},
     "output_type": "execute_result"
    }
   ],
   "source": [
    "loan.verification_status.unique()"
   ]
  },
  {
   "cell_type": "code",
   "execution_count": 1052,
   "id": "5153402c",
   "metadata": {},
   "outputs": [
    {
     "data": {
      "text/plain": [
       "array(['Dec-11', 'Nov-11', 'Oct-11', 'Sep-11', 'Aug-11', 'Jul-11',\n",
       "       'Jun-11', 'May-11', 'Apr-11', 'Mar-11', 'Feb-11', 'Jan-11',\n",
       "       'Dec-10', 'Nov-10', 'Oct-10', 'Sep-10', 'Aug-10', 'Jul-10',\n",
       "       'Jun-10', 'May-10', 'Apr-10', 'Mar-10', 'Feb-10', 'Jan-10',\n",
       "       'Dec-09', 'Nov-09', 'Oct-09', 'Sep-09', 'Aug-09', 'Jul-09',\n",
       "       'Jun-09', 'May-09', 'Apr-09', 'Mar-09', 'Feb-09', 'Jan-09',\n",
       "       'Dec-08', 'Nov-08', 'Oct-08', 'Sep-08', 'Aug-08', 'Jul-08',\n",
       "       'Jun-08', 'May-08', 'Apr-08', 'Mar-08', 'Feb-08', 'Jan-08',\n",
       "       'Dec-07', 'Nov-07', 'Oct-07', 'Sep-07', 'Aug-07', 'Jul-07',\n",
       "       'Jun-07'], dtype=object)"
      ]
     },
     "execution_count": 1052,
     "metadata": {},
     "output_type": "execute_result"
    }
   ],
   "source": [
    "loan.issue_d.unique()"
   ]
  },
  {
   "cell_type": "markdown",
   "id": "f10b93fa",
   "metadata": {},
   "source": [
    "##### converting issue_d to datetime format"
   ]
  },
  {
   "cell_type": "code",
   "execution_count": 1053,
   "id": "1b9b8b6d",
   "metadata": {},
   "outputs": [],
   "source": [
    "import datetime\n",
    "import pytz"
   ]
  },
  {
   "cell_type": "code",
   "execution_count": 1054,
   "id": "3bad061f",
   "metadata": {},
   "outputs": [
    {
     "data": {
      "text/plain": [
       "'Dec-11'"
      ]
     },
     "execution_count": 1054,
     "metadata": {},
     "output_type": "execute_result"
    }
   ],
   "source": [
    "loan.issue_d[0]"
   ]
  },
  {
   "cell_type": "code",
   "execution_count": 1055,
   "id": "890bd53c",
   "metadata": {},
   "outputs": [
    {
     "data": {
      "text/plain": [
       "2011"
      ]
     },
     "execution_count": 1055,
     "metadata": {},
     "output_type": "execute_result"
    }
   ],
   "source": [
    "datetime.datetime.strptime(loan.issue_d[0], '%b-%y').year"
   ]
  },
  {
   "cell_type": "code",
   "execution_count": 1056,
   "id": "3fdc6f47",
   "metadata": {},
   "outputs": [
    {
     "data": {
      "text/plain": [
       "12"
      ]
     },
     "execution_count": 1056,
     "metadata": {},
     "output_type": "execute_result"
    }
   ],
   "source": [
    "datetime.datetime.strptime(loan.issue_d[0], '%b-%y').month"
   ]
  },
  {
   "cell_type": "markdown",
   "id": "bcb3c35f",
   "metadata": {},
   "source": [
    "##### creating new columns (issue_year and issue_month) from issue_d"
   ]
  },
  {
   "cell_type": "code",
   "execution_count": 1057,
   "id": "c3883411",
   "metadata": {},
   "outputs": [],
   "source": [
    "loan['issue_year'] = loan.issue_d.apply(lambda x: datetime.datetime.strptime(x, '%b-%y').year)\n"
   ]
  },
  {
   "cell_type": "code",
   "execution_count": 1058,
   "id": "53016607",
   "metadata": {},
   "outputs": [],
   "source": [
    "loan['issue_month'] = loan.issue_d.apply(lambda x: datetime.datetime.strptime(x, '%b-%y').month)\n"
   ]
  },
  {
   "cell_type": "code",
   "execution_count": 1059,
   "id": "11a11af3",
   "metadata": {},
   "outputs": [
    {
     "data": {
      "text/plain": [
       "(39717, 42)"
      ]
     },
     "execution_count": 1059,
     "metadata": {},
     "output_type": "execute_result"
    }
   ],
   "source": [
    "loan.shape"
   ]
  },
  {
   "cell_type": "code",
   "execution_count": 1060,
   "id": "6ff0b0d5",
   "metadata": {},
   "outputs": [
    {
     "data": {
      "text/plain": [
       "array(['Fully Paid', 'Charged Off', 'Current'], dtype=object)"
      ]
     },
     "execution_count": 1060,
     "metadata": {},
     "output_type": "execute_result"
    }
   ],
   "source": [
    "loan.loan_status.unique()"
   ]
  },
  {
   "cell_type": "code",
   "execution_count": 1061,
   "id": "47b09dc1",
   "metadata": {},
   "outputs": [
    {
     "data": {
      "text/plain": [
       "array(['credit_card', 'car', 'small_business', 'other', 'wedding',\n",
       "       'debt_consolidation', 'home_improvement', 'major_purchase',\n",
       "       'medical', 'moving', 'vacation', 'house', 'renewable_energy',\n",
       "       'educational'], dtype=object)"
      ]
     },
     "execution_count": 1061,
     "metadata": {},
     "output_type": "execute_result"
    }
   ],
   "source": [
    "loan.purpose.unique()"
   ]
  },
  {
   "cell_type": "code",
   "execution_count": 1063,
   "id": "49ed2310",
   "metadata": {},
   "outputs": [
    {
     "data": {
      "text/plain": [
       "array(['83.70%', '9.40%', '98.50%', ..., '49.63%', '0.04%', '7.28%'],\n",
       "      dtype=object)"
      ]
     },
     "execution_count": 1063,
     "metadata": {},
     "output_type": "execute_result"
    }
   ],
   "source": [
    "loan.revol_util.unique()"
   ]
  },
  {
   "cell_type": "code",
   "execution_count": 1064,
   "id": "d1615d6c",
   "metadata": {},
   "outputs": [
    {
     "data": {
      "text/plain": [
       "array(['Jan-15', 'Apr-13', 'Jun-14', 'May-16', 'Apr-12', 'Nov-12',\n",
       "       'Jun-13', 'Sep-13', 'Jul-12', 'Oct-13', 'May-13', 'Feb-15',\n",
       "       'Aug-15', 'Oct-12', 'Sep-12', nan, 'Dec-12', 'Dec-14', 'Aug-13',\n",
       "       'Nov-13', 'Jan-14', 'Apr-14', 'Aug-14', 'Oct-14', 'Aug-12',\n",
       "       'Jul-14', 'Jul-13', 'Jan-16', 'Feb-16', 'Apr-15', 'Feb-14',\n",
       "       'Sep-14', 'Jun-12', 'Feb-13', 'Mar-13', 'May-14', 'Mar-15',\n",
       "       'Jan-13', 'Dec-13', 'Feb-12', 'Mar-14', 'Sep-15', 'Nov-15',\n",
       "       'Mar-16', 'Jan-12', 'Oct-15', 'Nov-14', 'Mar-12', 'May-12',\n",
       "       'Apr-16', 'Dec-15', 'Jun-15', 'May-15', 'Jul-15', 'Dec-11',\n",
       "       'Nov-11', 'Oct-11', 'Sep-11', 'Aug-11', 'Jul-11', 'Jun-11',\n",
       "       'May-11', 'Apr-11', 'Mar-11', 'Feb-11', 'Jan-11', 'Dec-10',\n",
       "       'Nov-10', 'Oct-10', 'Sep-10', 'Aug-10', 'Jul-10', 'Jun-10',\n",
       "       'May-10', 'Apr-10', 'Mar-10', 'Feb-10', 'Jan-10', 'Dec-09',\n",
       "       'Nov-09', 'Oct-09', 'Sep-09', 'Aug-09', 'Jul-09', 'Jun-09',\n",
       "       'May-09', 'Apr-09', 'Mar-09', 'Feb-09', 'Jan-09', 'Dec-08',\n",
       "       'Oct-08', 'Aug-08', 'Jul-08', 'Sep-08', 'Jun-08', 'May-08',\n",
       "       'Nov-08', 'Apr-08', 'Mar-08', 'Feb-08', 'Jan-08'], dtype=object)"
      ]
     },
     "execution_count": 1064,
     "metadata": {},
     "output_type": "execute_result"
    }
   ],
   "source": [
    "loan.last_pymnt_d.unique()"
   ]
  },
  {
   "cell_type": "code",
   "execution_count": 1065,
   "id": "a961e01d",
   "metadata": {},
   "outputs": [
    {
     "data": {
      "text/plain": [
       "array(['May-16', 'Sep-13', 'Apr-16', 'Jan-16', 'Dec-14', 'Aug-12',\n",
       "       'Mar-13', 'Dec-15', 'Aug-13', 'Nov-12', 'Mar-14', 'Apr-15',\n",
       "       'May-14', 'Jul-15', 'Feb-16', 'Mar-16', 'Sep-12', 'May-13',\n",
       "       'Jan-15', 'Jun-12', 'Mar-15', 'Dec-12', 'Sep-14', 'Feb-14',\n",
       "       'Jun-15', 'Oct-13', 'Apr-14', 'Oct-14', 'Feb-13', 'Nov-15',\n",
       "       'Jul-14', 'Sep-15', 'Oct-12', 'Nov-13', 'Nov-14', 'Feb-12',\n",
       "       'Oct-15', 'Apr-12', 'Aug-15', 'Jun-14', 'Jan-12', 'Aug-14',\n",
       "       'Jun-13', 'Dec-13', 'May-12', 'Jul-12', 'Jan-14', 'Jul-13',\n",
       "       'Apr-13', 'May-15', 'Feb-15', 'Mar-12', 'Nov-11', 'Dec-11',\n",
       "       'Jan-13', 'Oct-11', 'Sep-11', 'Aug-11', 'Jul-11', 'Jun-11',\n",
       "       'May-11', 'Apr-11', 'Mar-11', 'Feb-11', 'Jan-11', 'Dec-10',\n",
       "       'Nov-10', 'Oct-10', nan, 'Sep-10', 'Aug-10', 'Jul-10', 'Jun-10',\n",
       "       'May-10', 'Apr-10', 'Feb-10', 'Mar-10', 'Aug-07', 'Jan-10',\n",
       "       'Dec-09', 'Nov-09', 'Oct-09', 'Sep-09', 'Jul-09', 'Aug-09',\n",
       "       'May-09', 'Jun-09', 'Apr-09', 'Mar-09', 'Feb-09', 'Jan-09',\n",
       "       'Dec-08', 'Jun-08', 'Sep-08', 'May-08', 'Aug-08', 'Mar-08',\n",
       "       'Oct-08', 'Feb-08', 'Jan-08', 'Dec-07', 'Jul-08', 'Oct-07',\n",
       "       'Sep-07', 'Jun-07', 'May-07', 'Jul-07'], dtype=object)"
      ]
     },
     "execution_count": 1065,
     "metadata": {},
     "output_type": "execute_result"
    }
   ],
   "source": [
    "loan.last_credit_pull_d.unique()"
   ]
  },
  {
   "cell_type": "markdown",
   "id": "f31a0746",
   "metadata": {},
   "source": [
    "# Sanity checks"
   ]
  },
  {
   "cell_type": "code",
   "execution_count": 1066,
   "id": "2a2d9774",
   "metadata": {},
   "outputs": [
    {
     "data": {
      "text/plain": [
       "Index(['id', 'member_id', 'loan_amnt', 'funded_amnt', 'funded_amnt_inv',\n",
       "       'term', 'int_rate', 'installment', 'grade', 'sub_grade', 'emp_length',\n",
       "       'home_ownership', 'annual_inc', 'verification_status', 'issue_d',\n",
       "       'loan_status', 'purpose', 'addr_state', 'dti', 'delinq_2yrs',\n",
       "       'earliest_cr_line', 'inq_last_6mths', 'open_acc', 'pub_rec',\n",
       "       'revol_bal', 'revol_util', 'total_acc', 'out_prncp', 'out_prncp_inv',\n",
       "       'total_pymnt', 'total_pymnt_inv', 'total_rec_prncp', 'total_rec_int',\n",
       "       'total_rec_late_fee', 'recoveries', 'collection_recovery_fee',\n",
       "       'last_pymnt_d', 'last_pymnt_amnt', 'last_credit_pull_d',\n",
       "       'pub_rec_bankruptcies', 'issue_year', 'issue_month'],\n",
       "      dtype='object')"
      ]
     },
     "execution_count": 1066,
     "metadata": {},
     "output_type": "execute_result"
    }
   ],
   "source": [
    "loan.columns"
   ]
  },
  {
   "cell_type": "code",
   "execution_count": 1067,
   "id": "7348ff9e",
   "metadata": {},
   "outputs": [
    {
     "data": {
      "text/plain": [
       "array(['Fully Paid', 'Charged Off', 'Current'], dtype=object)"
      ]
     },
     "execution_count": 1067,
     "metadata": {},
     "output_type": "execute_result"
    }
   ],
   "source": [
    "loan.loan_status.unique()"
   ]
  },
  {
   "cell_type": "markdown",
   "id": "c106434e",
   "metadata": {},
   "source": [
    "##### as we are trying to analyse the patter of defaulters, the customers with Current status won't be helpful. We can remove Current customers and compare only fully paid and charged off customers."
   ]
  },
  {
   "cell_type": "code",
   "execution_count": 1068,
   "id": "996be56c",
   "metadata": {},
   "outputs": [],
   "source": [
    "loan = loan[~(loan.loan_status == 'Current')]"
   ]
  },
  {
   "cell_type": "code",
   "execution_count": 1069,
   "id": "8cb3276a",
   "metadata": {},
   "outputs": [
    {
     "data": {
      "text/plain": [
       "(38577, 42)"
      ]
     },
     "execution_count": 1069,
     "metadata": {},
     "output_type": "execute_result"
    }
   ],
   "source": [
    "loan.shape"
   ]
  },
  {
   "cell_type": "markdown",
   "id": "dc3ef2a9",
   "metadata": {},
   "source": [
    "# Handling outliers"
   ]
  },
  {
   "cell_type": "code",
   "execution_count": 1070,
   "id": "46250a84",
   "metadata": {},
   "outputs": [],
   "source": [
    "import matplotlib.pyplot as plt\n",
    "%matplotlib inline"
   ]
  },
  {
   "cell_type": "code",
   "execution_count": 1071,
   "id": "b9c14951",
   "metadata": {},
   "outputs": [
    {
     "data": {
      "image/png": "[encoded data removed]",
      "text/plain": [
       "<Figure size 432x288 with 1 Axes>"
      ]
     },
     "metadata": {
      "needs_background": "light"
     },
     "output_type": "display_data"
    }
   ],
   "source": [
    "plt.boxplot(loan.funded_amnt_inv)\n",
    "plt.show()"
   ]
  },
  {
   "cell_type": "code",
   "execution_count": 1072,
   "id": "6657db54",
   "metadata": {},
   "outputs": [
    {
     "data": {
      "image/png": "[encoded data removed]",
      "text/plain": [
       "<Figure size 432x288 with 1 Axes>"
      ]
     },
     "metadata": {
      "needs_background": "light"
     },
     "output_type": "display_data"
    }
   ],
   "source": [
    "plt.boxplot(loan.annual_inc)\n",
    "plt.show()"
   ]
  },
  {
   "cell_type": "code",
   "execution_count": 1073,
   "id": "03d67be8",
   "metadata": {},
   "outputs": [
    {
     "data": {
      "text/plain": [
       "count    3.857700e+04\n",
       "mean     6.877797e+04\n",
       "std      6.421868e+04\n",
       "min      4.000000e+03\n",
       "25%      4.000000e+04\n",
       "50%      5.886800e+04\n",
       "75%      8.200000e+04\n",
       "max      6.000000e+06\n",
       "Name: annual_inc, dtype: float64"
      ]
     },
     "execution_count": 1073,
     "metadata": {},
     "output_type": "execute_result"
    }
   ],
   "source": [
    "loan.annual_inc.describe()"
   ]
  },
  {
   "cell_type": "code",
   "execution_count": 1074,
   "id": "8bac3f0a",
   "metadata": {},
   "outputs": [
    {
     "data": {
      "text/plain": [
       "6000000.0"
      ]
     },
     "execution_count": 1074,
     "metadata": {},
     "output_type": "execute_result"
    }
   ],
   "source": [
    "loan.annual_inc.max()"
   ]
  },
  {
   "cell_type": "code",
   "execution_count": 1075,
   "id": "8a63f687",
   "metadata": {},
   "outputs": [
    {
     "data": {
      "text/plain": [
       "<AxesSubplot:>"
      ]
     },
     "execution_count": 1075,
     "metadata": {},
     "output_type": "execute_result"
    },
    {
     "data": {
      "image/png": "[encoded data removed]",
      "text/plain": [
       "<Figure size 432x288 with 1 Axes>"
      ]
     },
     "metadata": {
      "needs_background": "light"
     },
     "output_type": "display_data"
    }
   ],
   "source": [
    "loan[loan.annual_inc < 2000000].annual_inc.plot.box()"
   ]
  },
  {
   "cell_type": "code",
   "execution_count": 1076,
   "id": "72c40224",
   "metadata": {},
   "outputs": [
    {
     "data": {
      "text/plain": [
       "66"
      ]
     },
     "execution_count": 1076,
     "metadata": {},
     "output_type": "execute_result"
    }
   ],
   "source": [
    "loan[(loan.annual_inc > 500000.0 )].id.count()"
   ]
  },
  {
   "cell_type": "code",
   "execution_count": 1077,
   "id": "64b4e471",
   "metadata": {},
   "outputs": [
    {
     "data": {
      "text/plain": [
       "570"
      ]
     },
     "execution_count": 1077,
     "metadata": {},
     "output_type": "execute_result"
    }
   ],
   "source": [
    "loan[(loan.annual_inc > 200000.0 )].id.count()"
   ]
  },
  {
   "cell_type": "markdown",
   "id": "a086d3d2",
   "metadata": {},
   "source": [
    "##### annual_inc has few outliers which are effecting the mean value, so those outliers will not be considered"
   ]
  },
  {
   "cell_type": "code",
   "execution_count": 1078,
   "id": "23cd299e",
   "metadata": {},
   "outputs": [
    {
     "data": {
      "text/plain": [
       "<AxesSubplot:>"
      ]
     },
     "execution_count": 1078,
     "metadata": {},
     "output_type": "execute_result"
    },
    {
     "data": {
      "image/png": "[encoded data removed]",
      "text/plain": [
       "<Figure size 432x288 with 1 Axes>"
      ]
     },
     "metadata": {
      "needs_background": "light"
     },
     "output_type": "display_data"
    }
   ],
   "source": [
    "loan[loan.annual_inc < 200000].annual_inc.plot.box()"
   ]
  },
  {
   "cell_type": "code",
   "execution_count": 1079,
   "id": "339fa96b",
   "metadata": {},
   "outputs": [],
   "source": [
    "loan = loan[loan.annual_inc < 200000]"
   ]
  },
  {
   "cell_type": "code",
   "execution_count": 1080,
   "id": "3dbb518b",
   "metadata": {},
   "outputs": [
    {
     "data": {
      "text/plain": [
       "(37888, 42)"
      ]
     },
     "execution_count": 1080,
     "metadata": {},
     "output_type": "execute_result"
    }
   ],
   "source": [
    "loan.shape"
   ]
  },
  {
   "cell_type": "markdown",
   "id": "b111d936",
   "metadata": {},
   "source": [
    "# Univariate analysis"
   ]
  },
  {
   "cell_type": "code",
   "execution_count": 1081,
   "id": "62b390fd",
   "metadata": {},
   "outputs": [
    {
     "data": {
      "text/plain": [
       "Index(['id', 'member_id', 'loan_amnt', 'funded_amnt', 'funded_amnt_inv',\n",
       "       'term', 'int_rate', 'installment', 'grade', 'sub_grade', 'emp_length',\n",
       "       'home_ownership', 'annual_inc', 'verification_status', 'issue_d',\n",
       "       'loan_status', 'purpose', 'addr_state', 'dti', 'delinq_2yrs',\n",
       "       'earliest_cr_line', 'inq_last_6mths', 'open_acc', 'pub_rec',\n",
       "       'revol_bal', 'revol_util', 'total_acc', 'out_prncp', 'out_prncp_inv',\n",
       "       'total_pymnt', 'total_pymnt_inv', 'total_rec_prncp', 'total_rec_int',\n",
       "       'total_rec_late_fee', 'recoveries', 'collection_recovery_fee',\n",
       "       'last_pymnt_d', 'last_pymnt_amnt', 'last_credit_pull_d',\n",
       "       'pub_rec_bankruptcies', 'issue_year', 'issue_month'],\n",
       "      dtype='object')"
      ]
     },
     "execution_count": 1081,
     "metadata": {},
     "output_type": "execute_result"
    }
   ],
   "source": [
    "loan.columns"
   ]
  },
  {
   "cell_type": "markdown",
   "id": "73ed3708",
   "metadata": {},
   "source": [
    "##### distribution of interest rates"
   ]
  },
  {
   "cell_type": "code",
   "execution_count": 1082,
   "id": "176d5d9a",
   "metadata": {},
   "outputs": [
    {
     "data": {
      "image/png": "[encoded data removed]",
      "text/plain": [
       "<Figure size 432x288 with 1 Axes>"
      ]
     },
     "metadata": {
      "needs_background": "light"
     },
     "output_type": "display_data"
    }
   ],
   "source": [
    "plt.hist(loan.int_rate)\n",
    "plt.show()"
   ]
  },
  {
   "cell_type": "code",
   "execution_count": 1083,
   "id": "ab015c7f",
   "metadata": {},
   "outputs": [],
   "source": [
    "import warnings\n",
    "warnings.filterwarnings('ignore')"
   ]
  },
  {
   "cell_type": "code",
   "execution_count": 1084,
   "id": "2d50d8bd",
   "metadata": {},
   "outputs": [],
   "source": [
    "import seaborn as sns"
   ]
  },
  {
   "cell_type": "code",
   "execution_count": 1085,
   "id": "0298fc77",
   "metadata": {},
   "outputs": [
    {
     "data": {
      "image/png": "[encoded data removed]",
      "text/plain": [
       "<Figure size 432x288 with 1 Axes>"
      ]
     },
     "metadata": {
      "needs_background": "light"
     },
     "output_type": "display_data"
    }
   ],
   "source": [
    "sns.distplot(loan.int_rate, bins=100)\n",
    "plt.title(\"Distribution of interest rates\", fontsize=15)\n",
    "plt.show()"
   ]
  },
  {
   "cell_type": "code",
   "execution_count": 1086,
   "id": "6c111971",
   "metadata": {},
   "outputs": [
    {
     "data": {
      "text/plain": [
       "Index(['id', 'member_id', 'loan_amnt', 'funded_amnt', 'funded_amnt_inv',\n",
       "       'term', 'int_rate', 'installment', 'grade', 'sub_grade', 'emp_length',\n",
       "       'home_ownership', 'annual_inc', 'verification_status', 'issue_d',\n",
       "       'loan_status', 'purpose', 'addr_state', 'dti', 'delinq_2yrs',\n",
       "       'earliest_cr_line', 'inq_last_6mths', 'open_acc', 'pub_rec',\n",
       "       'revol_bal', 'revol_util', 'total_acc', 'out_prncp', 'out_prncp_inv',\n",
       "       'total_pymnt', 'total_pymnt_inv', 'total_rec_prncp', 'total_rec_int',\n",
       "       'total_rec_late_fee', 'recoveries', 'collection_recovery_fee',\n",
       "       'last_pymnt_d', 'last_pymnt_amnt', 'last_credit_pull_d',\n",
       "       'pub_rec_bankruptcies', 'issue_year', 'issue_month'],\n",
       "      dtype='object')"
      ]
     },
     "execution_count": 1086,
     "metadata": {},
     "output_type": "execute_result"
    }
   ],
   "source": [
    "loan.columns"
   ]
  },
  {
   "cell_type": "markdown",
   "id": "c3f9df12",
   "metadata": {},
   "source": [
    "##### distribution of loan_amnt, funded_amnt and funded_amnt_inv"
   ]
  },
  {
   "cell_type": "code",
   "execution_count": 1087,
   "id": "fd5a072d",
   "metadata": {},
   "outputs": [
    {
     "data": {
      "image/png": "[encoded data removed]",
      "text/plain": [
       "<Figure size 432x288 with 1 Axes>"
      ]
     },
     "metadata": {
      "needs_background": "light"
     },
     "output_type": "display_data"
    },
    {
     "data": {
      "image/png": "[encoded data removed]",
      "text/plain": [
       "<Figure size 432x288 with 1 Axes>"
      ]
     },
     "metadata": {
      "needs_background": "light"
     },
     "output_type": "display_data"
    },
    {
     "data": {
      "image/png": "[encoded data removed]",
      "text/plain": [
       "<Figure size 432x288 with 1 Axes>"
      ]
     },
     "metadata": {
      "needs_background": "light"
     },
     "output_type": "display_data"
    }
   ],
   "source": [
    "sns.distplot(loan.loan_amnt)\n",
    "plt.title(\"Distribution of loan amount\", fontsize=15)\n",
    "plt.show()\n",
    "\n",
    "sns.distplot(loan.funded_amnt)\n",
    "plt.title(\"Distribution of funded amount\", fontsize=15)\n",
    "plt.show()\n",
    "\n",
    "sns.distplot(loan.funded_amnt_inv)\n",
    "plt.title(\"Distribution of loan amount approved\", fontsize=15)\n",
    "plt.show()"
   ]
  },
  {
   "cell_type": "markdown",
   "id": "7dc65632",
   "metadata": {},
   "source": [
    "##### analysing the fully paid and charged off records"
   ]
  },
  {
   "cell_type": "code",
   "execution_count": 1088,
   "id": "cf2b46a7",
   "metadata": {},
   "outputs": [
    {
     "data": {
      "image/png": "[encoded data removed]",
      "text/plain": [
       "<Figure size 432x288 with 1 Axes>"
      ]
     },
     "metadata": {
      "needs_background": "light"
     },
     "output_type": "display_data"
    }
   ],
   "source": [
    "loan.loan_status.value_counts().plot.bar()\n",
    "plt.show()"
   ]
  },
  {
   "cell_type": "markdown",
   "id": "d2804c94",
   "metadata": {},
   "source": [
    "# Bivariate analysis"
   ]
  },
  {
   "cell_type": "code",
   "execution_count": null,
   "id": "b04ee362",
   "metadata": {},
   "outputs": [],
   "source": []
  },
  {
   "cell_type": "code",
   "execution_count": 1089,
   "id": "19e1e55a",
   "metadata": {},
   "outputs": [
    {
     "data": {
      "image/png": "[encoded data removed]",
      "text/plain": [
       "<Figure size 432x288 with 1 Axes>"
      ]
     },
     "metadata": {
      "needs_background": "light"
     },
     "output_type": "display_data"
    }
   ],
   "source": [
    "sns.barplot(data=loan, x='loan_status', y='loan_amnt', estimator=lambda x: np.quantile(x,0.05))\n",
    "plt.show()"
   ]
  },
  {
   "cell_type": "code",
   "execution_count": 1091,
   "id": "2b70f922",
   "metadata": {},
   "outputs": [
    {
     "data": {
      "image/png": "[encoded data removed]",
      "text/plain": [
       "<Figure size 432x288 with 1 Axes>"
      ]
     },
     "metadata": {
      "needs_background": "light"
     },
     "output_type": "display_data"
    }
   ],
   "source": [
    "sns.barplot(data=loan, x='loan_status', y='emp_length', estimator=np.median)\n",
    "plt.show()"
   ]
  },
  {
   "cell_type": "code",
   "execution_count": 1092,
   "id": "25f312b8",
   "metadata": {},
   "outputs": [
    {
     "data": {
      "text/plain": [
       "Index(['id', 'member_id', 'loan_amnt', 'funded_amnt', 'funded_amnt_inv',\n",
       "       'term', 'int_rate', 'installment', 'grade', 'sub_grade', 'emp_length',\n",
       "       'home_ownership', 'annual_inc', 'verification_status', 'issue_d',\n",
       "       'loan_status', 'purpose', 'addr_state', 'dti', 'delinq_2yrs',\n",
       "       'earliest_cr_line', 'inq_last_6mths', 'open_acc', 'pub_rec',\n",
       "       'revol_bal', 'revol_util', 'total_acc', 'out_prncp', 'out_prncp_inv',\n",
       "       'total_pymnt', 'total_pymnt_inv', 'total_rec_prncp', 'total_rec_int',\n",
       "       'total_rec_late_fee', 'recoveries', 'collection_recovery_fee',\n",
       "       'last_pymnt_d', 'last_pymnt_amnt', 'last_credit_pull_d',\n",
       "       'pub_rec_bankruptcies', 'issue_year', 'issue_month'],\n",
       "      dtype='object')"
      ]
     },
     "execution_count": 1092,
     "metadata": {},
     "output_type": "execute_result"
    }
   ],
   "source": [
    "loan.columns"
   ]
  },
  {
   "cell_type": "markdown",
   "id": "84cad6f8",
   "metadata": {},
   "source": [
    "##### below graph shows most of the customer who fully pays there customer have 10+ years employment"
   ]
  },
  {
   "cell_type": "code",
   "execution_count": 1093,
   "id": "8371ef0a",
   "metadata": {},
   "outputs": [
    {
     "data": {
      "image/png": "[encoded data removed]",
      "text/plain": [
       "<Figure size 1008x576 with 1 Axes>"
      ]
     },
     "metadata": {
      "needs_background": "light"
     },
     "output_type": "display_data"
    }
   ],
   "source": [
    "plt.figure(figsize=(14,8))\n",
    "ax = sns.countplot(y=\"emp_length\",data=loan,hue='loan_status')\n",
    "ax.set_title('Employment length',fontsize=14,color='w')\n",
    "ax.set_ylabel('Employment length',fontsize=14,color = 'w')\n",
    "ax.set_xlabel('Loan Application Count',fontsize=14,color = 'w')      \n",
    "plt.show()"
   ]
  },
  {
   "cell_type": "code",
   "execution_count": 1094,
   "id": "6ca2dcf3",
   "metadata": {},
   "outputs": [
    {
     "data": {
      "image/png": "[encoded data removed]",
      "text/plain": [
       "<Figure size 1008x576 with 1 Axes>"
      ]
     },
     "metadata": {
      "needs_background": "light"
     },
     "output_type": "display_data"
    }
   ],
   "source": [
    "plt.figure(figsize=(14,8))\n",
    "ax = sns.countplot(y=\"home_ownership\",data=loan,hue='loan_status')\n",
    "ax.set_title('Home ownership',fontsize=14,color='w')\n",
    "ax.set_ylabel('Home ownership',fontsize=14,color = 'w')\n",
    "ax.set_xlabel('Loan Application Count',fontsize=14,color = 'w')      \n",
    "plt.show()"
   ]
  },
  {
   "cell_type": "markdown",
   "id": "91c9f1b2",
   "metadata": {},
   "source": [
    "##### below graph shows most of the loans were taken for debt consolidation and to pay credit card bills"
   ]
  },
  {
   "cell_type": "code",
   "execution_count": 1095,
   "id": "4c0fce96",
   "metadata": {},
   "outputs": [
    {
     "data": {
      "image/png": "[encoded data removed]",
      "text/plain": [
       "<Figure size 1008x576 with 1 Axes>"
      ]
     },
     "metadata": {
      "needs_background": "light"
     },
     "output_type": "display_data"
    }
   ],
   "source": [
    "plt.figure(figsize=(14,8))\n",
    "ax = sns.countplot(y=\"purpose\",data=loan,hue='loan_status')\n",
    "ax.set_title('Purpose Of Loan',fontsize=14,color='w')\n",
    "ax.set_ylabel('Purpose Of Loan',fontsize=14,color = 'w')\n",
    "ax.set_xlabel('Loan Application Count',fontsize=14,color = 'w')      \n",
    "plt.show()"
   ]
  },
  {
   "cell_type": "markdown",
   "id": "d04ac9b2",
   "metadata": {},
   "source": [
    "##### below graph shows most of the loans were taken for 36 months period"
   ]
  },
  {
   "cell_type": "code",
   "execution_count": 1127,
   "id": "8e59f422",
   "metadata": {},
   "outputs": [
    {
     "data": {
      "image/png": "[encoded data removed]",
      "text/plain": [
       "<Figure size 1008x576 with 1 Axes>"
      ]
     },
     "metadata": {
      "needs_background": "light"
     },
     "output_type": "display_data"
    }
   ],
   "source": [
    "plt.figure(figsize=(14,8))\n",
    "ax = sns.countplot(y=\"term\",data=loan,hue='loan_status')\n",
    "ax.set_title('Duration of loan',fontsize=14,color='w')\n",
    "ax.set_ylabel('Duration of loan',fontsize=14,color = 'w')\n",
    "ax.set_xlabel('Loan Application Count',fontsize=14,color = 'w')      \n",
    "plt.show()"
   ]
  },
  {
   "cell_type": "code",
   "execution_count": 1128,
   "id": "1eedb9f7",
   "metadata": {},
   "outputs": [
    {
     "data": {
      "image/png": "[encoded data removed]",
      "text/plain": [
       "<Figure size 1008x576 with 1 Axes>"
      ]
     },
     "metadata": {
      "needs_background": "light"
     },
     "output_type": "display_data"
    }
   ],
   "source": [
    "plt.figure(figsize=(14,8))\n",
    "ax = sns.countplot(y=\"verification_status\",data=loan,hue='loan_status')\n",
    "ax.set_title('verification_status',fontsize=14,color='w')\n",
    "ax.set_ylabel('verification_status',fontsize=14,color = 'w')\n",
    "ax.set_xlabel('Loan Application Count',fontsize=14,color = 'w')      \n",
    "plt.show()"
   ]
  },
  {
   "cell_type": "code",
   "execution_count": 1129,
   "id": "d59236e7",
   "metadata": {},
   "outputs": [
    {
     "data": {
      "image/png": "[encoded data removed]",
      "text/plain": [
       "<Figure size 1008x576 with 1 Axes>"
      ]
     },
     "metadata": {
      "needs_background": "light"
     },
     "output_type": "display_data"
    }
   ],
   "source": [
    "plt.figure(figsize=(14,8))\n",
    "ax = sns.countplot(y=\"pub_rec\",data=loan,hue='loan_status')\n",
    "ax.set_ylabel('pub_rec',fontsize=14,color = 'w')\n",
    "ax.set_xlabel('Loan Application Count',fontsize=14,color = 'w')      \n",
    "plt.show()"
   ]
  },
  {
   "cell_type": "code",
   "execution_count": 1130,
   "id": "43422259",
   "metadata": {},
   "outputs": [
    {
     "data": {
      "image/png": "[encoded data removed]",
      "text/plain": [
       "<Figure size 1008x576 with 1 Axes>"
      ]
     },
     "metadata": {
      "needs_background": "light"
     },
     "output_type": "display_data"
    }
   ],
   "source": [
    "plt.figure(figsize=(14,8))\n",
    "ax = sns.countplot(y=\"pub_rec_bankruptcies\",data=loan,hue='loan_status')\n",
    "ax.set_ylabel('pub_rec_bankruptcies',fontsize=14,color = 'w')\n",
    "ax.set_xlabel('Loan Application Count',fontsize=14,color = 'w')      \n",
    "plt.show()"
   ]
  },
  {
   "cell_type": "code",
   "execution_count": 1174,
   "id": "b95323eb",
   "metadata": {},
   "outputs": [
    {
     "data": {
      "image/png": "[encoded data removed]",
      "text/plain": [
       "<Figure size 1008x1440 with 1 Axes>"
      ]
     },
     "metadata": {
      "needs_background": "light"
     },
     "output_type": "display_data"
    }
   ],
   "source": [
    "plt.figure(figsize=(14,20))\n",
    "ax = sns.countplot(y=\"addr_state\",data=loan,hue='loan_status')\n",
    "ax.set_ylabel('addr_state',fontsize=14,color = 'w')\n",
    "ax.set_xlabel('Loan Application Count',fontsize=14,color = 'w')      \n",
    "plt.show()"
   ]
  },
  {
   "cell_type": "markdown",
   "id": "02d4a434",
   "metadata": {},
   "source": [
    "# Segmentation"
   ]
  },
  {
   "cell_type": "code",
   "execution_count": 1132,
   "id": "1cab3ed5",
   "metadata": {},
   "outputs": [
    {
     "data": {
      "text/plain": [
       "35000"
      ]
     },
     "execution_count": 1132,
     "metadata": {},
     "output_type": "execute_result"
    }
   ],
   "source": [
    "loan.loan_amnt.max()"
   ]
  },
  {
   "cell_type": "code",
   "execution_count": 1133,
   "id": "65cdcdf1",
   "metadata": {},
   "outputs": [],
   "source": [
    "loan['loan_amnt_cat'] =  loan.loan_amnt.apply(lambda x: '0-5000' if x <= 5000 \n",
    "                     else ('5000-10000' if x > 5000 and x <= 10000 \n",
    "                           else ('10000-15000' if x > 10000 and x <= 15000 \n",
    "                                 else ('15000-20000' if x > 15000 and x <= 20000 \n",
    "                                       else ('20000-25000' if x > 20000 and x <= 25000 \n",
    "                                             else ('25000-30000' if x > 25000 and x <= 30000 \n",
    "                                                   else '30000-35000'))))))"
   ]
  },
  {
   "cell_type": "code",
   "execution_count": 1134,
   "id": "5c9ff71a",
   "metadata": {},
   "outputs": [
    {
     "data": {
      "text/plain": [
       "array(['0-5000', '5000-10000', '10000-15000', '20000-25000',\n",
       "       '30000-35000', '25000-30000', '15000-20000'], dtype=object)"
      ]
     },
     "execution_count": 1134,
     "metadata": {},
     "output_type": "execute_result"
    }
   ],
   "source": [
    "loan.loan_amnt_cat.unique()"
   ]
  },
  {
   "cell_type": "code",
   "execution_count": 1135,
   "id": "acb5d1fe",
   "metadata": {},
   "outputs": [
    {
     "data": {
      "text/plain": [
       "count    37888.000000\n",
       "mean     10902.729756\n",
       "std       7223.887442\n",
       "min        500.000000\n",
       "25%       5125.000000\n",
       "50%       9600.000000\n",
       "75%      15000.000000\n",
       "max      35000.000000\n",
       "Name: loan_amnt, dtype: float64"
      ]
     },
     "execution_count": 1135,
     "metadata": {},
     "output_type": "execute_result"
    }
   ],
   "source": [
    "loan.loan_amnt.describe()"
   ]
  },
  {
   "cell_type": "code",
   "execution_count": 1136,
   "id": "2927b7e3",
   "metadata": {},
   "outputs": [
    {
     "data": {
      "text/html": [
       "<div>\n",
       "<style scoped>\n",
       "    .dataframe tbody tr th:only-of-type {\n",
       "        vertical-align: middle;\n",
       "    }\n",
       "\n",
       "    .dataframe tbody tr th {\n",
       "        vertical-align: top;\n",
       "    }\n",
       "\n",
       "    .dataframe thead th {\n",
       "        text-align: right;\n",
       "    }\n",
       "</style>\n",
       "<table border=\"1\" class=\"dataframe\">\n",
       "  <thead>\n",
       "    <tr style=\"text-align: right;\">\n",
       "      <th></th>\n",
       "      <th>loan_amnt</th>\n",
       "      <th>loan_amnt_cat</th>\n",
       "    </tr>\n",
       "  </thead>\n",
       "  <tbody>\n",
       "    <tr>\n",
       "      <th>56</th>\n",
       "      <td>16000</td>\n",
       "      <td>15000-20000</td>\n",
       "    </tr>\n",
       "    <tr>\n",
       "      <th>61</th>\n",
       "      <td>17500</td>\n",
       "      <td>15000-20000</td>\n",
       "    </tr>\n",
       "    <tr>\n",
       "      <th>62</th>\n",
       "      <td>17675</td>\n",
       "      <td>15000-20000</td>\n",
       "    </tr>\n",
       "    <tr>\n",
       "      <th>67</th>\n",
       "      <td>16425</td>\n",
       "      <td>15000-20000</td>\n",
       "    </tr>\n",
       "    <tr>\n",
       "      <th>79</th>\n",
       "      <td>18000</td>\n",
       "      <td>15000-20000</td>\n",
       "    </tr>\n",
       "    <tr>\n",
       "      <th>...</th>\n",
       "      <td>...</td>\n",
       "      <td>...</td>\n",
       "    </tr>\n",
       "    <tr>\n",
       "      <th>39639</th>\n",
       "      <td>17000</td>\n",
       "      <td>15000-20000</td>\n",
       "    </tr>\n",
       "    <tr>\n",
       "      <th>39653</th>\n",
       "      <td>20000</td>\n",
       "      <td>15000-20000</td>\n",
       "    </tr>\n",
       "    <tr>\n",
       "      <th>39654</th>\n",
       "      <td>18500</td>\n",
       "      <td>15000-20000</td>\n",
       "    </tr>\n",
       "    <tr>\n",
       "      <th>39666</th>\n",
       "      <td>15450</td>\n",
       "      <td>15000-20000</td>\n",
       "    </tr>\n",
       "    <tr>\n",
       "      <th>39688</th>\n",
       "      <td>20000</td>\n",
       "      <td>15000-20000</td>\n",
       "    </tr>\n",
       "  </tbody>\n",
       "</table>\n",
       "<p>4236 rows × 2 columns</p>\n",
       "</div>"
      ],
      "text/plain": [
       "       loan_amnt loan_amnt_cat\n",
       "56         16000   15000-20000\n",
       "61         17500   15000-20000\n",
       "62         17675   15000-20000\n",
       "67         16425   15000-20000\n",
       "79         18000   15000-20000\n",
       "...          ...           ...\n",
       "39639      17000   15000-20000\n",
       "39653      20000   15000-20000\n",
       "39654      18500   15000-20000\n",
       "39666      15450   15000-20000\n",
       "39688      20000   15000-20000\n",
       "\n",
       "[4236 rows x 2 columns]"
      ]
     },
     "execution_count": 1136,
     "metadata": {},
     "output_type": "execute_result"
    }
   ],
   "source": [
    "loan[loan.loan_amnt_cat =='15000-20000'][['loan_amnt','loan_amnt_cat']]"
   ]
  },
  {
   "cell_type": "code",
   "execution_count": 1137,
   "id": "f2def361",
   "metadata": {},
   "outputs": [
    {
     "data": {
      "image/png": "[encoded data removed]",
      "text/plain": [
       "<Figure size 1008x576 with 1 Axes>"
      ]
     },
     "metadata": {
      "needs_background": "light"
     },
     "output_type": "display_data"
    }
   ],
   "source": [
    "plt.figure(figsize=(14,8))\n",
    "ax = sns.countplot(y=\"loan_amnt_cat\",data=loan,hue='loan_status')\n",
    "ax.set_ylabel('pub_rec_bankruptcies',fontsize=14,color = 'w')\n",
    "ax.set_xlabel('Loan Application Count',fontsize=14,color = 'w')      \n",
    "plt.show()"
   ]
  },
  {
   "cell_type": "code",
   "execution_count": 1138,
   "id": "1d724db8",
   "metadata": {},
   "outputs": [
    {
     "data": {
      "text/plain": [
       "count    37888.000000\n",
       "mean        11.909822\n",
       "std          3.682251\n",
       "min          5.420000\n",
       "25%          8.940000\n",
       "50%         11.710000\n",
       "75%         14.350000\n",
       "max         24.400000\n",
       "Name: int_rate, dtype: float64"
      ]
     },
     "execution_count": 1138,
     "metadata": {},
     "output_type": "execute_result"
    }
   ],
   "source": [
    "loan.int_rate.describe()"
   ]
  },
  {
   "cell_type": "code",
   "execution_count": 1139,
   "id": "12061964",
   "metadata": {},
   "outputs": [],
   "source": [
    " loan['int_rate_cat'] = loan.int_rate.apply(lambda x: '5-10' if x > 5 and x <= 10\n",
    "                     else ('10-15' if x > 10 and x <= 15 \n",
    "                           else ('15-20' if x > 15 and x <= 20 \n",
    "                                 else '20-25' )))\n"
   ]
  },
  {
   "cell_type": "code",
   "execution_count": 1140,
   "id": "a4ce6d94",
   "metadata": {},
   "outputs": [
    {
     "data": {
      "image/png": "[encoded data removed]",
      "text/plain": [
       "<Figure size 1008x576 with 1 Axes>"
      ]
     },
     "metadata": {
      "needs_background": "light"
     },
     "output_type": "display_data"
    }
   ],
   "source": [
    "plt.figure(figsize=(14,8))\n",
    "ax = sns.countplot(y=\"int_rate_cat\",data=loan,hue='loan_status')\n",
    "ax.set_ylabel('pub_rec_bankruptcies',fontsize=14,color = 'w')\n",
    "ax.set_xlabel('Loan Application Count',fontsize=14,color = 'w')      \n",
    "plt.show()"
   ]
  },
  {
   "cell_type": "code",
   "execution_count": 1141,
   "id": "d0db2053",
   "metadata": {},
   "outputs": [
    {
     "data": {
      "text/plain": [
       "array(['10-15', '15-20', '5-10', '20-25'], dtype=object)"
      ]
     },
     "execution_count": 1141,
     "metadata": {},
     "output_type": "execute_result"
    }
   ],
   "source": [
    " loan.int_rate_cat.unique()"
   ]
  },
  {
   "cell_type": "code",
   "execution_count": 1142,
   "id": "b289b23b",
   "metadata": {},
   "outputs": [
    {
     "data": {
      "text/html": [
       "<div>\n",
       "<style scoped>\n",
       "    .dataframe tbody tr th:only-of-type {\n",
       "        vertical-align: middle;\n",
       "    }\n",
       "\n",
       "    .dataframe tbody tr th {\n",
       "        vertical-align: top;\n",
       "    }\n",
       "\n",
       "    .dataframe thead th {\n",
       "        text-align: right;\n",
       "    }\n",
       "</style>\n",
       "<table border=\"1\" class=\"dataframe\">\n",
       "  <thead>\n",
       "    <tr style=\"text-align: right;\">\n",
       "      <th></th>\n",
       "      <th>int_rate_cat</th>\n",
       "      <th>int_rate</th>\n",
       "    </tr>\n",
       "  </thead>\n",
       "  <tbody>\n",
       "    <tr>\n",
       "      <th>1</th>\n",
       "      <td>15-20</td>\n",
       "      <td>15.27</td>\n",
       "    </tr>\n",
       "    <tr>\n",
       "      <th>2</th>\n",
       "      <td>15-20</td>\n",
       "      <td>15.96</td>\n",
       "    </tr>\n",
       "    <tr>\n",
       "      <th>6</th>\n",
       "      <td>15-20</td>\n",
       "      <td>15.96</td>\n",
       "    </tr>\n",
       "    <tr>\n",
       "      <th>7</th>\n",
       "      <td>15-20</td>\n",
       "      <td>18.64</td>\n",
       "    </tr>\n",
       "    <tr>\n",
       "      <th>15</th>\n",
       "      <td>15-20</td>\n",
       "      <td>16.29</td>\n",
       "    </tr>\n",
       "    <tr>\n",
       "      <th>...</th>\n",
       "      <td>...</td>\n",
       "      <td>...</td>\n",
       "    </tr>\n",
       "    <tr>\n",
       "      <th>39631</th>\n",
       "      <td>15-20</td>\n",
       "      <td>15.65</td>\n",
       "    </tr>\n",
       "    <tr>\n",
       "      <th>39640</th>\n",
       "      <td>15-20</td>\n",
       "      <td>15.01</td>\n",
       "    </tr>\n",
       "    <tr>\n",
       "      <th>39654</th>\n",
       "      <td>15-20</td>\n",
       "      <td>15.33</td>\n",
       "    </tr>\n",
       "    <tr>\n",
       "      <th>39656</th>\n",
       "      <td>15-20</td>\n",
       "      <td>15.33</td>\n",
       "    </tr>\n",
       "    <tr>\n",
       "      <th>39691</th>\n",
       "      <td>15-20</td>\n",
       "      <td>15.96</td>\n",
       "    </tr>\n",
       "  </tbody>\n",
       "</table>\n",
       "<p>7056 rows × 2 columns</p>\n",
       "</div>"
      ],
      "text/plain": [
       "      int_rate_cat  int_rate\n",
       "1            15-20     15.27\n",
       "2            15-20     15.96\n",
       "6            15-20     15.96\n",
       "7            15-20     18.64\n",
       "15           15-20     16.29\n",
       "...            ...       ...\n",
       "39631        15-20     15.65\n",
       "39640        15-20     15.01\n",
       "39654        15-20     15.33\n",
       "39656        15-20     15.33\n",
       "39691        15-20     15.96\n",
       "\n",
       "[7056 rows x 2 columns]"
      ]
     },
     "execution_count": 1142,
     "metadata": {},
     "output_type": "execute_result"
    }
   ],
   "source": [
    "loan[loan.int_rate_cat == '15-20'][['int_rate_cat','int_rate']]"
   ]
  },
  {
   "cell_type": "code",
   "execution_count": 1143,
   "id": "13567ac8",
   "metadata": {},
   "outputs": [
    {
     "data": {
      "text/html": [
       "<div>\n",
       "<style scoped>\n",
       "    .dataframe tbody tr th:only-of-type {\n",
       "        vertical-align: middle;\n",
       "    }\n",
       "\n",
       "    .dataframe tbody tr th {\n",
       "        vertical-align: top;\n",
       "    }\n",
       "\n",
       "    .dataframe thead th {\n",
       "        text-align: right;\n",
       "    }\n",
       "</style>\n",
       "<table border=\"1\" class=\"dataframe\">\n",
       "  <thead>\n",
       "    <tr style=\"text-align: right;\">\n",
       "      <th></th>\n",
       "      <th>int_rate_cat</th>\n",
       "      <th>int_rate</th>\n",
       "    </tr>\n",
       "  </thead>\n",
       "  <tbody>\n",
       "  </tbody>\n",
       "</table>\n",
       "</div>"
      ],
      "text/plain": [
       "Empty DataFrame\n",
       "Columns: [int_rate_cat, int_rate]\n",
       "Index: []"
      ]
     },
     "execution_count": 1143,
     "metadata": {},
     "output_type": "execute_result"
    }
   ],
   "source": [
    "loan[(loan.int_rate_cat == '15-20') & (loan.int_rate > 20) ][['int_rate_cat','int_rate']]"
   ]
  },
  {
   "cell_type": "code",
   "execution_count": 1144,
   "id": "3e5b3c10",
   "metadata": {},
   "outputs": [
    {
     "data": {
      "text/plain": [
       "Index(['id', 'member_id', 'loan_amnt', 'funded_amnt', 'funded_amnt_inv',\n",
       "       'term', 'int_rate', 'installment', 'grade', 'sub_grade', 'emp_length',\n",
       "       'home_ownership', 'annual_inc', 'verification_status', 'issue_d',\n",
       "       'loan_status', 'purpose', 'addr_state', 'dti', 'delinq_2yrs',\n",
       "       'earliest_cr_line', 'inq_last_6mths', 'open_acc', 'pub_rec',\n",
       "       'revol_bal', 'revol_util', 'total_acc', 'out_prncp', 'out_prncp_inv',\n",
       "       'total_pymnt', 'total_pymnt_inv', 'total_rec_prncp', 'total_rec_int',\n",
       "       'total_rec_late_fee', 'recoveries', 'collection_recovery_fee',\n",
       "       'last_pymnt_d', 'last_pymnt_amnt', 'last_credit_pull_d',\n",
       "       'pub_rec_bankruptcies', 'issue_year', 'issue_month', 'int_rate_cat',\n",
       "       'dti_cat', 'annual_inc_cat', 'loan_amnt_cat'],\n",
       "      dtype='object')"
      ]
     },
     "execution_count": 1144,
     "metadata": {},
     "output_type": "execute_result"
    }
   ],
   "source": [
    "loan.columns"
   ]
  },
  {
   "cell_type": "code",
   "execution_count": 1145,
   "id": "17301537",
   "metadata": {},
   "outputs": [
    {
     "data": {
      "text/plain": [
       "count    37888.000000\n",
       "mean        13.359724\n",
       "std          6.658577\n",
       "min          0.000000\n",
       "25%          8.240000\n",
       "50%         13.470000\n",
       "75%         18.622500\n",
       "max         29.990000\n",
       "Name: dti, dtype: float64"
      ]
     },
     "execution_count": 1145,
     "metadata": {},
     "output_type": "execute_result"
    }
   ],
   "source": [
    "loan.dti.describe()"
   ]
  },
  {
   "cell_type": "code",
   "execution_count": 1146,
   "id": "7f086169",
   "metadata": {},
   "outputs": [],
   "source": [
    " loan['dti_cat'] = loan.dti.apply(lambda x: '0-5' if x <= 5\n",
    "                     else ('5-10' if x > 5 and x <= 10 \n",
    "                         else ('10-15' if x > 10 and x <= 15 \n",
    "                               else ('15-20' if x > 15 and x <= 20 \n",
    "                                     else ('20-25' if x > 20 and x <= 25 \n",
    "                                         else '25-30' )))))"
   ]
  },
  {
   "cell_type": "code",
   "execution_count": 1147,
   "id": "8a3cf38d",
   "metadata": {},
   "outputs": [
    {
     "data": {
      "text/plain": [
       "array(['25-30', '0-5', '5-10', '15-20', '10-15', '20-25'], dtype=object)"
      ]
     },
     "execution_count": 1147,
     "metadata": {},
     "output_type": "execute_result"
    }
   ],
   "source": [
    " loan.dti_cat.unique()"
   ]
  },
  {
   "cell_type": "code",
   "execution_count": 1148,
   "id": "3d247c38",
   "metadata": {},
   "outputs": [
    {
     "data": {
      "image/png": "[encoded data removed]",
      "text/plain": [
       "<Figure size 1008x576 with 1 Axes>"
      ]
     },
     "metadata": {
      "needs_background": "light"
     },
     "output_type": "display_data"
    }
   ],
   "source": [
    "plt.figure(figsize=(14,8))\n",
    "ax = sns.countplot(y=\"dti_cat\",data=loan,hue='loan_status')\n",
    "ax.set_ylabel('pub_rec_bankruptcies',fontsize=14,color = 'w')\n",
    "ax.set_xlabel('Loan Application Count',fontsize=14,color = 'w')      \n",
    "plt.show()"
   ]
  },
  {
   "cell_type": "code",
   "execution_count": 1149,
   "id": "5c8e310d",
   "metadata": {},
   "outputs": [
    {
     "data": {
      "text/plain": [
       "count     37888.000000\n",
       "mean      64157.788295\n",
       "std       32803.167663\n",
       "min        4000.000000\n",
       "25%       40000.000000\n",
       "50%       57855.000000\n",
       "75%       80000.000000\n",
       "max      199992.000000\n",
       "Name: annual_inc, dtype: float64"
      ]
     },
     "execution_count": 1149,
     "metadata": {},
     "output_type": "execute_result"
    }
   ],
   "source": [
    "loan.annual_inc.describe()"
   ]
  },
  {
   "cell_type": "code",
   "execution_count": 1150,
   "id": "aca8dca9",
   "metadata": {},
   "outputs": [],
   "source": [
    "loan['annual_inc_cat'] =  loan.annual_inc.apply(lambda x: '0-50000' if x <= 50000 \n",
    "                     else ('50000-100000' if x > 50000 and x <= 100000 \n",
    "                           else ('100000-150000' if x > 100000 and x <= 150000 \n",
    "                                 else '150000-200000' )))"
   ]
  },
  {
   "cell_type": "code",
   "execution_count": 1151,
   "id": "a4639b00",
   "metadata": {},
   "outputs": [
    {
     "data": {
      "text/plain": [
       "array(['0-50000', '50000-100000', '100000-150000', '150000-200000'],\n",
       "      dtype=object)"
      ]
     },
     "execution_count": 1151,
     "metadata": {},
     "output_type": "execute_result"
    }
   ],
   "source": [
    "loan.annual_inc_cat.unique()"
   ]
  },
  {
   "cell_type": "code",
   "execution_count": 1152,
   "id": "9b982961",
   "metadata": {},
   "outputs": [
    {
     "data": {
      "image/png": "[encoded data removed]",
      "text/plain": [
       "<Figure size 1008x576 with 1 Axes>"
      ]
     },
     "metadata": {
      "needs_background": "light"
     },
     "output_type": "display_data"
    }
   ],
   "source": [
    "plt.figure(figsize=(14,8))\n",
    "ax = sns.countplot(y=\"annual_inc_cat\",data=loan,hue='loan_status')\n",
    "ax.set_ylabel('pub_rec_bankruptcies',fontsize=14,color = 'w')\n",
    "ax.set_xlabel('Loan Application Count',fontsize=14,color = 'w')      \n",
    "plt.show()"
   ]
  },
  {
   "cell_type": "code",
   "execution_count": 1153,
   "id": "3dbad0bd",
   "metadata": {
    "scrolled": true
   },
   "outputs": [
    {
     "data": {
      "text/html": [
       "<div>\n",
       "<style scoped>\n",
       "    .dataframe tbody tr th:only-of-type {\n",
       "        vertical-align: middle;\n",
       "    }\n",
       "\n",
       "    .dataframe tbody tr th {\n",
       "        vertical-align: top;\n",
       "    }\n",
       "\n",
       "    .dataframe thead th {\n",
       "        text-align: right;\n",
       "    }\n",
       "</style>\n",
       "<table border=\"1\" class=\"dataframe\">\n",
       "  <thead>\n",
       "    <tr style=\"text-align: right;\">\n",
       "      <th>loan_status</th>\n",
       "      <th>annual_inc_cat</th>\n",
       "      <th>Charged Off</th>\n",
       "      <th>Fully Paid</th>\n",
       "    </tr>\n",
       "  </thead>\n",
       "  <tbody>\n",
       "    <tr>\n",
       "      <th>0</th>\n",
       "      <td>0-50000</td>\n",
       "      <td>2613</td>\n",
       "      <td>12776</td>\n",
       "    </tr>\n",
       "    <tr>\n",
       "      <th>1</th>\n",
       "      <td>100000-150000</td>\n",
       "      <td>429</td>\n",
       "      <td>3566</td>\n",
       "    </tr>\n",
       "    <tr>\n",
       "      <th>2</th>\n",
       "      <td>150000-200000</td>\n",
       "      <td>92</td>\n",
       "      <td>705</td>\n",
       "    </tr>\n",
       "    <tr>\n",
       "      <th>3</th>\n",
       "      <td>50000-100000</td>\n",
       "      <td>2422</td>\n",
       "      <td>15285</td>\n",
       "    </tr>\n",
       "  </tbody>\n",
       "</table>\n",
       "</div>"
      ],
      "text/plain": [
       "loan_status annual_inc_cat  Charged Off  Fully Paid\n",
       "0                  0-50000         2613       12776\n",
       "1            100000-150000          429        3566\n",
       "2            150000-200000           92         705\n",
       "3             50000-100000         2422       15285"
      ]
     },
     "execution_count": 1153,
     "metadata": {},
     "output_type": "execute_result"
    }
   ],
   "source": [
    "loan.groupby(['annual_inc_cat', 'loan_status']).loan_status.count().unstack().reset_index()\n",
    "\n"
   ]
  },
  {
   "cell_type": "code",
   "execution_count": 1154,
   "id": "adaa9a96",
   "metadata": {},
   "outputs": [
    {
     "data": {
      "image/png": "[encoded data removed]",
      "text/plain": [
       "<Figure size 432x288 with 1 Axes>"
      ]
     },
     "metadata": {
      "needs_background": "light"
     },
     "output_type": "display_data"
    }
   ],
   "source": [
    "sns.barplot(data=loan, x='annual_inc_cat', y='emp_length')\n",
    "plt.show()"
   ]
  },
  {
   "cell_type": "code",
   "execution_count": 1155,
   "id": "87452f33",
   "metadata": {},
   "outputs": [
    {
     "data": {
      "text/plain": [
       "Index(['id', 'member_id', 'loan_amnt', 'funded_amnt', 'funded_amnt_inv',\n",
       "       'term', 'int_rate', 'installment', 'grade', 'sub_grade', 'emp_length',\n",
       "       'home_ownership', 'annual_inc', 'verification_status', 'issue_d',\n",
       "       'loan_status', 'purpose', 'addr_state', 'dti', 'delinq_2yrs',\n",
       "       'earliest_cr_line', 'inq_last_6mths', 'open_acc', 'pub_rec',\n",
       "       'revol_bal', 'revol_util', 'total_acc', 'out_prncp', 'out_prncp_inv',\n",
       "       'total_pymnt', 'total_pymnt_inv', 'total_rec_prncp', 'total_rec_int',\n",
       "       'total_rec_late_fee', 'recoveries', 'collection_recovery_fee',\n",
       "       'last_pymnt_d', 'last_pymnt_amnt', 'last_credit_pull_d',\n",
       "       'pub_rec_bankruptcies', 'issue_year', 'issue_month', 'int_rate_cat',\n",
       "       'dti_cat', 'annual_inc_cat', 'loan_amnt_cat'],\n",
       "      dtype='object')"
      ]
     },
     "execution_count": 1155,
     "metadata": {},
     "output_type": "execute_result"
    }
   ],
   "source": [
    "loan.columns"
   ]
  },
  {
   "cell_type": "code",
   "execution_count": 1156,
   "id": "bf4f3797",
   "metadata": {},
   "outputs": [
    {
     "data": {
      "image/png": "[encoded data removed]",
      "text/plain": [
       "<Figure size 432x288 with 1 Axes>"
      ]
     },
     "metadata": {
      "needs_background": "light"
     },
     "output_type": "display_data"
    }
   ],
   "source": [
    "sns.barplot(data=loan, x='dti_cat', y='emp_length')\n",
    "plt.show()"
   ]
  },
  {
   "cell_type": "code",
   "execution_count": 1157,
   "id": "8e6cd4fe",
   "metadata": {},
   "outputs": [
    {
     "data": {
      "text/plain": [
       "id                           int64\n",
       "member_id                    int64\n",
       "loan_amnt                    int64\n",
       "funded_amnt                  int64\n",
       "funded_amnt_inv            float64\n",
       "term                         int32\n",
       "int_rate                   float64\n",
       "installment                float64\n",
       "grade                        int64\n",
       "sub_grade                   object\n",
       "emp_length                 float64\n",
       "home_ownership              object\n",
       "annual_inc                 float64\n",
       "verification_status         object\n",
       "issue_d                     object\n",
       "loan_status                 object\n",
       "purpose                     object\n",
       "addr_state                  object\n",
       "dti                        float64\n",
       "delinq_2yrs                  int64\n",
       "earliest_cr_line            object\n",
       "inq_last_6mths               int64\n",
       "open_acc                     int64\n",
       "pub_rec                      int64\n",
       "revol_bal                    int64\n",
       "revol_util                  object\n",
       "total_acc                    int64\n",
       "out_prncp                  float64\n",
       "out_prncp_inv              float64\n",
       "total_pymnt                float64\n",
       "total_pymnt_inv            float64\n",
       "total_rec_prncp            float64\n",
       "total_rec_int              float64\n",
       "total_rec_late_fee         float64\n",
       "recoveries                 float64\n",
       "collection_recovery_fee    float64\n",
       "last_pymnt_d                object\n",
       "last_pymnt_amnt            float64\n",
       "last_credit_pull_d          object\n",
       "pub_rec_bankruptcies       float64\n",
       "issue_year                   int64\n",
       "issue_month                  int64\n",
       "int_rate_cat                object\n",
       "dti_cat                     object\n",
       "annual_inc_cat              object\n",
       "loan_amnt_cat               object\n",
       "dtype: object"
      ]
     },
     "execution_count": 1157,
     "metadata": {},
     "output_type": "execute_result"
    }
   ],
   "source": [
    "loan.dtypes"
   ]
  },
  {
   "cell_type": "code",
   "execution_count": 1158,
   "id": "7526c506",
   "metadata": {},
   "outputs": [
    {
     "data": {
      "image/png": "[encoded data removed]",
      "text/plain": [
       "<Figure size 432x288 with 1 Axes>"
      ]
     },
     "metadata": {
      "needs_background": "light"
     },
     "output_type": "display_data"
    }
   ],
   "source": [
    "sns.barplot(data=loan, x='term', y='loan_amnt_cat')\n",
    "plt.show()"
   ]
  },
  {
   "cell_type": "code",
   "execution_count": 1159,
   "id": "c2af940f",
   "metadata": {},
   "outputs": [
    {
     "data": {
      "image/png": "[encoded data removed]",
      "text/plain": [
       "<Figure size 432x288 with 1 Axes>"
      ]
     },
     "metadata": {
      "needs_background": "light"
     },
     "output_type": "display_data"
    }
   ],
   "source": [
    "sns.barplot(data=loan, y='term', x='int_rate_cat')\n",
    "plt.show()"
   ]
  },
  {
   "cell_type": "code",
   "execution_count": 1160,
   "id": "16585a0a",
   "metadata": {},
   "outputs": [
    {
     "data": {
      "image/png": "[encoded data removed]",
      "text/plain": [
       "<Figure size 432x288 with 1 Axes>"
      ]
     },
     "metadata": {
      "needs_background": "light"
     },
     "output_type": "display_data"
    }
   ],
   "source": [
    "sns.barplot(data=loan, y='term', x='dti_cat')\n",
    "plt.show()"
   ]
  },
  {
   "cell_type": "code",
   "execution_count": 1161,
   "id": "a9b7bbea",
   "metadata": {},
   "outputs": [
    {
     "data": {
      "image/png": "[encoded data removed]",
      "text/plain": [
       "<Figure size 432x288 with 1 Axes>"
      ]
     },
     "metadata": {
      "needs_background": "light"
     },
     "output_type": "display_data"
    }
   ],
   "source": [
    "sns.barplot(data=loan, y='term', x='annual_inc_cat')\n",
    "plt.show()"
   ]
  },
  {
   "cell_type": "code",
   "execution_count": 1162,
   "id": "c229eb53",
   "metadata": {},
   "outputs": [],
   "source": [
    "res = pd.pivot_table(data=loan, index=\"annual_inc_cat\", columns='loan_amnt_cat',\n",
    "               values='int_rate', aggfunc=lambda x: np.quantile(x,0.2))\n",
    "               "
   ]
  },
  {
   "cell_type": "code",
   "execution_count": 1163,
   "id": "9410caf2",
   "metadata": {},
   "outputs": [
    {
     "data": {
      "image/png": "[encoded data removed]",
      "text/plain": [
       "<Figure size 432x288 with 2 Axes>"
      ]
     },
     "metadata": {
      "needs_background": "light"
     },
     "output_type": "display_data"
    }
   ],
   "source": [
    "sns.heatmap(res, cmap = 'Greens', annot=True)\n",
    "plt.show()"
   ]
  },
  {
   "cell_type": "code",
   "execution_count": 1164,
   "id": "0c735acd",
   "metadata": {},
   "outputs": [
    {
     "data": {
      "text/plain": [
       "Index(['id', 'member_id', 'loan_amnt', 'funded_amnt', 'funded_amnt_inv',\n",
       "       'term', 'int_rate', 'installment', 'grade', 'sub_grade', 'emp_length',\n",
       "       'home_ownership', 'annual_inc', 'verification_status', 'issue_d',\n",
       "       'loan_status', 'purpose', 'addr_state', 'dti', 'delinq_2yrs',\n",
       "       'earliest_cr_line', 'inq_last_6mths', 'open_acc', 'pub_rec',\n",
       "       'revol_bal', 'revol_util', 'total_acc', 'out_prncp', 'out_prncp_inv',\n",
       "       'total_pymnt', 'total_pymnt_inv', 'total_rec_prncp', 'total_rec_int',\n",
       "       'total_rec_late_fee', 'recoveries', 'collection_recovery_fee',\n",
       "       'last_pymnt_d', 'last_pymnt_amnt', 'last_credit_pull_d',\n",
       "       'pub_rec_bankruptcies', 'issue_year', 'issue_month', 'int_rate_cat',\n",
       "       'dti_cat', 'annual_inc_cat', 'loan_amnt_cat'],\n",
       "      dtype='object')"
      ]
     },
     "execution_count": 1164,
     "metadata": {},
     "output_type": "execute_result"
    }
   ],
   "source": [
    "loan.columns"
   ]
  },
  {
   "cell_type": "code",
   "execution_count": 1165,
   "id": "6e0de322",
   "metadata": {},
   "outputs": [
    {
     "data": {
      "text/html": [
       "<div>\n",
       "<style scoped>\n",
       "    .dataframe tbody tr th:only-of-type {\n",
       "        vertical-align: middle;\n",
       "    }\n",
       "\n",
       "    .dataframe tbody tr th {\n",
       "        vertical-align: top;\n",
       "    }\n",
       "\n",
       "    .dataframe thead th {\n",
       "        text-align: right;\n",
       "    }\n",
       "</style>\n",
       "<table border=\"1\" class=\"dataframe\">\n",
       "  <thead>\n",
       "    <tr style=\"text-align: right;\">\n",
       "      <th></th>\n",
       "      <th>issue_d</th>\n",
       "      <th>last_pymnt_amnt</th>\n",
       "      <th>last_pymnt_d</th>\n",
       "      <th>last_credit_pull_d</th>\n",
       "      <th>pub_rec_bankruptcies</th>\n",
       "    </tr>\n",
       "  </thead>\n",
       "  <tbody>\n",
       "    <tr>\n",
       "      <th>0</th>\n",
       "      <td>Dec-11</td>\n",
       "      <td>171.62</td>\n",
       "      <td>Jan-15</td>\n",
       "      <td>May-16</td>\n",
       "      <td>0.0</td>\n",
       "    </tr>\n",
       "    <tr>\n",
       "      <th>1</th>\n",
       "      <td>Dec-11</td>\n",
       "      <td>119.66</td>\n",
       "      <td>Apr-13</td>\n",
       "      <td>Sep-13</td>\n",
       "      <td>0.0</td>\n",
       "    </tr>\n",
       "    <tr>\n",
       "      <th>2</th>\n",
       "      <td>Dec-11</td>\n",
       "      <td>649.91</td>\n",
       "      <td>Jun-14</td>\n",
       "      <td>May-16</td>\n",
       "      <td>0.0</td>\n",
       "    </tr>\n",
       "    <tr>\n",
       "      <th>3</th>\n",
       "      <td>Dec-11</td>\n",
       "      <td>357.48</td>\n",
       "      <td>Jan-15</td>\n",
       "      <td>Apr-16</td>\n",
       "      <td>0.0</td>\n",
       "    </tr>\n",
       "    <tr>\n",
       "      <th>5</th>\n",
       "      <td>Dec-11</td>\n",
       "      <td>161.03</td>\n",
       "      <td>Jan-15</td>\n",
       "      <td>Jan-16</td>\n",
       "      <td>0.0</td>\n",
       "    </tr>\n",
       "    <tr>\n",
       "      <th>...</th>\n",
       "      <td>...</td>\n",
       "      <td>...</td>\n",
       "      <td>...</td>\n",
       "      <td>...</td>\n",
       "      <td>...</td>\n",
       "    </tr>\n",
       "    <tr>\n",
       "      <th>39711</th>\n",
       "      <td>Jul-07</td>\n",
       "      <td>159.83</td>\n",
       "      <td>Jul-10</td>\n",
       "      <td>Nov-14</td>\n",
       "      <td>NaN</td>\n",
       "    </tr>\n",
       "    <tr>\n",
       "      <th>39712</th>\n",
       "      <td>Jul-07</td>\n",
       "      <td>80.90</td>\n",
       "      <td>Jul-10</td>\n",
       "      <td>Jun-10</td>\n",
       "      <td>NaN</td>\n",
       "    </tr>\n",
       "    <tr>\n",
       "      <th>39713</th>\n",
       "      <td>Jul-07</td>\n",
       "      <td>281.94</td>\n",
       "      <td>Jul-10</td>\n",
       "      <td>Jul-10</td>\n",
       "      <td>NaN</td>\n",
       "    </tr>\n",
       "    <tr>\n",
       "      <th>39714</th>\n",
       "      <td>Jul-07</td>\n",
       "      <td>0.00</td>\n",
       "      <td>Apr-08</td>\n",
       "      <td>Jun-07</td>\n",
       "      <td>NaN</td>\n",
       "    </tr>\n",
       "    <tr>\n",
       "      <th>39716</th>\n",
       "      <td>Jun-07</td>\n",
       "      <td>256.59</td>\n",
       "      <td>Jun-10</td>\n",
       "      <td>Jun-10</td>\n",
       "      <td>NaN</td>\n",
       "    </tr>\n",
       "  </tbody>\n",
       "</table>\n",
       "<p>37888 rows × 5 columns</p>\n",
       "</div>"
      ],
      "text/plain": [
       "      issue_d  last_pymnt_amnt last_pymnt_d last_credit_pull_d  \\\n",
       "0      Dec-11           171.62       Jan-15             May-16   \n",
       "1      Dec-11           119.66       Apr-13             Sep-13   \n",
       "2      Dec-11           649.91       Jun-14             May-16   \n",
       "3      Dec-11           357.48       Jan-15             Apr-16   \n",
       "5      Dec-11           161.03       Jan-15             Jan-16   \n",
       "...       ...              ...          ...                ...   \n",
       "39711  Jul-07           159.83       Jul-10             Nov-14   \n",
       "39712  Jul-07            80.90       Jul-10             Jun-10   \n",
       "39713  Jul-07           281.94       Jul-10             Jul-10   \n",
       "39714  Jul-07             0.00       Apr-08             Jun-07   \n",
       "39716  Jun-07           256.59       Jun-10             Jun-10   \n",
       "\n",
       "       pub_rec_bankruptcies  \n",
       "0                       0.0  \n",
       "1                       0.0  \n",
       "2                       0.0  \n",
       "3                       0.0  \n",
       "5                       0.0  \n",
       "...                     ...  \n",
       "39711                   NaN  \n",
       "39712                   NaN  \n",
       "39713                   NaN  \n",
       "39714                   NaN  \n",
       "39716                   NaN  \n",
       "\n",
       "[37888 rows x 5 columns]"
      ]
     },
     "execution_count": 1165,
     "metadata": {},
     "output_type": "execute_result"
    }
   ],
   "source": [
    "loan[['issue_d','last_pymnt_amnt','last_pymnt_d','last_credit_pull_d','pub_rec_bankruptcies']]\n"
   ]
  },
  {
   "cell_type": "code",
   "execution_count": 1166,
   "id": "4de03357",
   "metadata": {},
   "outputs": [
    {
     "data": {
      "image/png": "[encoded data removed]",
      "text/plain": [
       "<Figure size 432x288 with 1 Axes>"
      ]
     },
     "metadata": {
      "needs_background": "light"
     },
     "output_type": "display_data"
    }
   ],
   "source": [
    "loan.groupby(['issue_year'])['int_rate'].mean().plot()\n",
    "plt.show()"
   ]
  },
  {
   "cell_type": "code",
   "execution_count": 1167,
   "id": "78467569",
   "metadata": {},
   "outputs": [
    {
     "data": {
      "image/png": "[encoded data removed]",
      "text/plain": [
       "<Figure size 432x288 with 1 Axes>"
      ]
     },
     "metadata": {
      "needs_background": "light"
     },
     "output_type": "display_data"
    }
   ],
   "source": [
    "loan.groupby(['issue_year']).id.count().plot()\n",
    "plt.show()"
   ]
  },
  {
   "cell_type": "code",
   "execution_count": 1168,
   "id": "6a4ba1cd",
   "metadata": {},
   "outputs": [
    {
     "data": {
      "text/html": [
       "<div>\n",
       "<style scoped>\n",
       "    .dataframe tbody tr th:only-of-type {\n",
       "        vertical-align: middle;\n",
       "    }\n",
       "\n",
       "    .dataframe tbody tr th {\n",
       "        vertical-align: top;\n",
       "    }\n",
       "\n",
       "    .dataframe thead th {\n",
       "        text-align: right;\n",
       "    }\n",
       "</style>\n",
       "<table border=\"1\" class=\"dataframe\">\n",
       "  <thead>\n",
       "    <tr style=\"text-align: right;\">\n",
       "      <th>issue_year</th>\n",
       "      <th>2007</th>\n",
       "      <th>2008</th>\n",
       "      <th>2009</th>\n",
       "      <th>2010</th>\n",
       "      <th>2011</th>\n",
       "    </tr>\n",
       "    <tr>\n",
       "      <th>annual_inc_cat</th>\n",
       "      <th></th>\n",
       "      <th></th>\n",
       "      <th></th>\n",
       "      <th></th>\n",
       "      <th></th>\n",
       "    </tr>\n",
       "  </thead>\n",
       "  <tbody>\n",
       "    <tr>\n",
       "      <th>0-50000</th>\n",
       "      <td>8.70</td>\n",
       "      <td>9.200</td>\n",
       "      <td>9.32</td>\n",
       "      <td>7.880</td>\n",
       "      <td>7.51</td>\n",
       "    </tr>\n",
       "    <tr>\n",
       "      <th>100000-150000</th>\n",
       "      <td>7.43</td>\n",
       "      <td>9.630</td>\n",
       "      <td>9.32</td>\n",
       "      <td>7.880</td>\n",
       "      <td>7.90</td>\n",
       "    </tr>\n",
       "    <tr>\n",
       "      <th>150000-200000</th>\n",
       "      <td>8.07</td>\n",
       "      <td>9.424</td>\n",
       "      <td>11.14</td>\n",
       "      <td>9.776</td>\n",
       "      <td>7.90</td>\n",
       "    </tr>\n",
       "    <tr>\n",
       "      <th>50000-100000</th>\n",
       "      <td>8.38</td>\n",
       "      <td>9.510</td>\n",
       "      <td>9.32</td>\n",
       "      <td>7.880</td>\n",
       "      <td>7.66</td>\n",
       "    </tr>\n",
       "  </tbody>\n",
       "</table>\n",
       "</div>"
      ],
      "text/plain": [
       "issue_year      2007   2008   2009   2010  2011\n",
       "annual_inc_cat                                 \n",
       "0-50000         8.70  9.200   9.32  7.880  7.51\n",
       "100000-150000   7.43  9.630   9.32  7.880  7.90\n",
       "150000-200000   8.07  9.424  11.14  9.776  7.90\n",
       "50000-100000    8.38  9.510   9.32  7.880  7.66"
      ]
     },
     "execution_count": 1168,
     "metadata": {},
     "output_type": "execute_result"
    }
   ],
   "source": [
    "pd.pivot_table(data=loan, index=\"annual_inc_cat\", columns='issue_year',\n",
    "               values='int_rate', aggfunc=lambda x: np.quantile(x,0.2))"
   ]
  },
  {
   "cell_type": "code",
   "execution_count": 1169,
   "id": "7c9e2f81",
   "metadata": {},
   "outputs": [
    {
     "data": {
      "image/png": "[encoded data removed]",
      "text/plain": [
       "<Figure size 540x540 with 12 Axes>"
      ]
     },
     "metadata": {
      "needs_background": "light"
     },
     "output_type": "display_data"
    }
   ],
   "source": [
    "sns.pairplot(loan[['loan_amnt','int_rate','annual_inc','loan_status']])\n",
    "plt.show()"
   ]
  },
  {
   "cell_type": "code",
   "execution_count": null,
   "id": "8feee073",
   "metadata": {},
   "outputs": [],
   "source": []
  },
  {
   "cell_type": "code",
   "execution_count": null,
   "id": "e5cdcc67",
   "metadata": {},
   "outputs": [],
   "source": []
  },
  {
   "cell_type": "code",
   "execution_count": null,
   "id": "05a0c43b",
   "metadata": {},
   "outputs": [],
   "source": []
  },
  {
   "cell_type": "code",
   "execution_count": null,
   "id": "89dbd713",
   "metadata": {},
   "outputs": [],
   "source": []
  },
  {
   "cell_type": "code",
   "execution_count": null,
   "id": "4c3326ce",
   "metadata": {},
   "outputs": [],
   "source": []
  },
  {
   "cell_type": "code",
   "execution_count": null,
   "id": "2d651696",
   "metadata": {},
   "outputs": [],
   "source": []
  },
  {
   "cell_type": "code",
   "execution_count": null,
   "id": "b1244b54",
   "metadata": {},
   "outputs": [],
   "source": []
  },
  {
   "cell_type": "code",
   "execution_count": null,
   "id": "bb51f8f7",
   "metadata": {},
   "outputs": [],
   "source": []
  },
  {
   "cell_type": "code",
   "execution_count": null,
   "id": "714b5431",
   "metadata": {},
   "outputs": [],
   "source": []
  },
  {
   "cell_type": "code",
   "execution_count": null,
   "id": "e7de240a",
   "metadata": {},
   "outputs": [],
   "source": []
  }
 ],
 "metadata": {
  "kernelspec": {
   "display_name": "Python 3",
   "language": "python",
   "name": "python3"
  },
  "language_info": {
   "codemirror_mode": {
    "name": "ipython",
    "version": 3
   },
   "file_extension": ".py",
   "mimetype": "text/x-python",
   "name": "python",
   "nbconvert_exporter": "python",
   "pygments_lexer": "ipython3",
   "version": "3.8.8"
  }
 },
 "nbformat": 4,
 "nbformat_minor": 5
}
